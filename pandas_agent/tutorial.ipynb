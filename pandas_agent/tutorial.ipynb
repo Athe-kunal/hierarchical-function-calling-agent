{
 "cells": [
  {
   "cell_type": "code",
   "execution_count": 12,
   "metadata": {},
   "outputs": [],
   "source": [
    "# from agent.scrape import scrape_pandas_website\n",
    "# %load_ext autoreload\n",
    "# %autoreload 2\n",
    "# scrape_pandas_website()"
   ]
  },
  {
   "cell_type": "code",
   "execution_count": 7,
   "metadata": {},
   "outputs": [],
   "source": [
    "from agent.database import build_docs_metadata\n",
    "\n",
    "docs,metadata = build_docs_metadata()"
   ]
  },
  {
   "cell_type": "code",
   "execution_count": 8,
   "metadata": {},
   "outputs": [
    {
     "data": {
      "text/plain": [
       "(1938, 1938)"
      ]
     },
     "execution_count": 8,
     "metadata": {},
     "output_type": "execute_result"
    }
   ],
   "source": [
    "len(docs),len(metadata)"
   ]
  },
  {
   "cell_type": "code",
   "execution_count": 9,
   "metadata": {},
   "outputs": [
    {
     "data": {
      "text/plain": [
       "'Return the day of the year.'"
      ]
     },
     "execution_count": 9,
     "metadata": {},
     "output_type": "execute_result"
    }
   ],
   "source": [
    "docs[608]"
   ]
  },
  {
   "cell_type": "code",
   "execution_count": 10,
   "metadata": {},
   "outputs": [
    {
     "data": {
      "text/plain": [
       "{'function_name': 'Timestamp.day_of_year',\n",
       " 'function_url': 'https://pandas.pydata.org/docs/reference/api/pandas.Timestamp.day_of_year.html#pandas.Timestamp.day_of_year',\n",
       " 'full_function': 'Timestamp.day_of_year#',\n",
       " 'function_calling': '{}',\n",
       " 'parent': 'pandas arrays, scalars, and data types',\n",
       " 'sub_level_name': 'Objects',\n",
       " 'sub_level_trail': 'pandas arrays, scalars, and data types',\n",
       " 'function_trail': 'pandas arrays, scalars, and data types-->Objects'}"
      ]
     },
     "execution_count": 10,
     "metadata": {},
     "output_type": "execute_result"
    }
   ],
   "source": [
    "metadata[608]"
   ]
  },
  {
   "cell_type": "code",
   "execution_count": 11,
   "metadata": {},
   "outputs": [
    {
     "data": {
      "text/plain": [
       "'Returns numpy array of datetime.time objects. The time part of the Timestamps.   For Series: For DatetimeIndex:'"
      ]
     },
     "execution_count": 11,
     "metadata": {},
     "output_type": "execute_result"
    }
   ],
   "source": [
    "docs[276]"
   ]
  },
  {
   "cell_type": "code",
   "execution_count": 12,
   "metadata": {},
   "outputs": [
    {
     "data": {
      "text/plain": [
       "{'function_name': 'QuarterBegin.rule_code',\n",
       " 'function_url': 'https://pandas.pydata.org/docs/reference/api/pandas.tseries.offsets.QuarterBegin.rule_code.html#pandas.tseries.offsets.QuarterBegin.rule_code',\n",
       " 'full_function': 'QuarterBegin.rule_code#',\n",
       " 'function_calling': '{}',\n",
       " 'parent': 'Date offsets',\n",
       " 'sub_level_name': 'QuarterBegin',\n",
       " 'sub_level_trail': 'Date offsets',\n",
       " 'function_trail': 'Date offsets-->QuarterBegin'}"
      ]
     },
     "execution_count": 12,
     "metadata": {},
     "output_type": "execute_result"
    }
   ],
   "source": [
    "metadata[1340]"
   ]
  },
  {
   "cell_type": "code",
   "execution_count": 14,
   "metadata": {},
   "outputs": [
    {
     "data": {
      "text/plain": [
       "{'function_name': 'Styler.concat(other)',\n",
       " 'function_url': 'https://pandas.pydata.org/docs/reference/api/pandas.io.formats.style.Styler.concat.html#pandas.io.formats.style.Styler.concat',\n",
       " 'full_function': 'Styler.concat(other)',\n",
       " 'function_calling': \"{'name': 'pandas.io.formats.style.Styler.concat', 'descriptions': 'Append another Styler to combine the output into a single table. New in version 1.5.0.', 'parameters': {'type': 'object', 'properties': {'other': {'type': 'Styler', 'description': 'Styler. The other Styler object which has already been styled and formatted. The\\\\ndata for this Styler must have the same columns as the original, and the\\\\nnumber of index levels must also be the same to render correctly.\\\\n'}}, 'required': []}}\",\n",
       " 'parent': 'Style',\n",
       " 'sub_level_name': 'Style application',\n",
       " 'sub_level_trail': 'Style',\n",
       " 'function_trail': 'Style-->Style application'}"
      ]
     },
     "execution_count": 14,
     "metadata": {},
     "output_type": "execute_result"
    }
   ],
   "source": [
    "metadata[-100]"
   ]
  },
  {
   "cell_type": "code",
   "execution_count": 9,
   "metadata": {},
   "outputs": [],
   "source": [
    "num_words = [len(doc.split(\" \")) for doc in docs]"
   ]
  },
  {
   "cell_type": "code",
   "execution_count": 11,
   "metadata": {},
   "outputs": [
    {
     "data": {
      "text/plain": [
       "'ExcelFile.sheet_names'"
      ]
     },
     "execution_count": 11,
     "metadata": {},
     "output_type": "execute_result"
    }
   ],
   "source": [
    "docs[10]"
   ]
  },
  {
   "cell_type": "code",
   "execution_count": 13,
   "metadata": {},
   "outputs": [
    {
     "data": {
      "text/plain": [
       "<BarContainer object of 1944 artists>"
      ]
     },
     "execution_count": 13,
     "metadata": {},
     "output_type": "execute_result"
    },
    {
     "data": {
      "image/png": "[encoded data removed]",
      "text/plain": [
       "<Figure size 640x480 with 1 Axes>"
      ]
     },
     "metadata": {},
     "output_type": "display_data"
    }
   ],
   "source": [
    "import matplotlib.pyplot as plt\n",
    "\n",
    "plt.bar([i for i in range(len(docs))],num_words)"
   ]
  },
  {
   "cell_type": "code",
   "execution_count": 1,
   "metadata": {},
   "outputs": [
    {
     "data": {
      "text/plain": [
       "True"
      ]
     },
     "execution_count": 1,
     "metadata": {},
     "output_type": "execute_result"
    }
   ],
   "source": [
    "from agent.database import build_database\n",
    "from dotenv import load_dotenv,find_dotenv\n",
    "%load_ext autoreload\n",
    "%autoreload 2\n",
    "load_dotenv(find_dotenv(),override=True)"
   ]
  },
  {
   "cell_type": "code",
   "execution_count": 2,
   "metadata": {},
   "outputs": [],
   "source": [
    "import os\n",
    "# build_database(docs,metadata,os.environ['OPENAI_API_KEY'])"
   ]
  },
  {
   "cell_type": "code",
   "execution_count": 3,
   "metadata": {},
   "outputs": [],
   "source": [
    "from agent.database import load_database\n",
    "import os\n",
    "\n",
    "pandas_collection = load_database(os.environ['OPENAI_API_KEY'])"
   ]
  },
  {
   "cell_type": "code",
   "execution_count": 4,
   "metadata": {},
   "outputs": [],
   "source": [
    "# from agent.dspy_agent import PandasAgentChroma\n",
    "# %load_ext autoreload\n",
    "# %autoreload 2"
   ]
  },
  {
   "cell_type": "code",
   "execution_count": 20,
   "metadata": {},
   "outputs": [
    {
     "name": "stdout",
     "output_type": "stream",
     "text": [
      "Date offsets: Standard kind of date increment used for a date range. Works exactly like the keyword argument form of relativedelta. Note that the positional argument form of relativedelata is not supported. Use of the keyword n is discouraged– you would be better off specifying n in the keywords you use, but regardless it is there for you. n is needed for DateOffset subclasses. DateOffset works as follows. Each offset specify a set of dates that conform to the DateOffset. For example, Bday defines this set to be the set of dates that are weekdays (M-F). To test if a date is in the set of a DateOffset dateOffset we can use the is_on_offset method: dateOffset.is_on_offset(date). If a date is not on a valid date, the rollback and rollforward methods can be used to roll the date to the nearest valid date before/after the date. DateOffsets can be created to move dates forward a given number of valid dates. For example, Bday(2) can be added to a date to move it two business days forward. If the date does not start on a valid date, first it is moved to a valid date. Thus pseudo code is: When a date offset is created for a negative number of periods, the date is first rolled forward. The pseudo code is: Zero presents a problem. Should it roll forward or back? We arbitrarily have it rollforward: date + BDay(0) == BDay.rollforward(date) Since 0 is a bit weird, we suggest avoiding its use. Besides, adding a DateOffsets specified by the singular form of the date component can be used to replace certain component of the timestamp.\n",
      "\n",
      "DataFrame: Replace values given in to_replace with value. Values of the Series/DataFrame are replaced with other values dynamically. This differs from updating with .loc or .iloc, which require you to specify a location to update with some value.\n",
      "\n",
      "Series: Replace values given in to_replace with value. Values of the Series/DataFrame are replaced with other values dynamically. This differs from updating with .loc or .iloc, which require you to specify a location to update with some value.\n",
      "\n",
      "\n",
      "DataFrame; Series\n",
      "DataFrame#Missing data handling: Replace values given in to_replace with value. Values of the Series/DataFrame are replaced with other values dynamically. This differs from updating with .loc or .iloc, which require you to specify a location to update with some value.\n",
      "\n",
      "Series#Missing data handling: Replace values given in to_replace with value. Values of the Series/DataFrame are replaced with other values dynamically. This differs from updating with .loc or .iloc, which require you to specify a location to update with some value.\n",
      "\n",
      "DataFrame#Computations / descriptive stats: Compute pairwise covariance of columns, excluding NA/null values. Compute the pairwise covariance among the series of a DataFrame. The returned data frame is the covariance matrix of the columns of the DataFrame. Both NA and null values are automatically excluded from the calculation. (See the note below about bias from missing values.) A threshold can be set for the minimum number of observations for each value created. Comparisons with observations below this threshold will be returned as NaN. This method is generally used for the analysis of time series data to understand the relationship between different measures across time.\n",
      "\n",
      "DataFrame#Binary operator functions: Get Multiplication of dataframe and other, element-wise (binary operator mul). Equivalent to dataframe * other, but with support to substitute a fill_value for missing data in one of the inputs. With reverse version, rmul. Among flexible wrappers (add, sub, mul, div, floordiv, mod, pow) to arithmetic operators: +, -, *, /, //, %, **.\n",
      "\n",
      "DataFrame#Binary operator functions: Get Multiplication of dataframe and other, element-wise (binary operator rmul). Equivalent to other * dataframe, but with support to substitute a fill_value for missing data in one of the inputs. With reverse version, mul. Among flexible wrappers (add, sub, mul, div, floordiv, mod, pow) to arithmetic operators: +, -, *, /, //, %, **.\n",
      "\n",
      "\n",
      "DataFrame#Missing data handling; Series#Missing data handling\n",
      "{'$or': [{'function_trail': {'$eq': 'Series-->Missing data handling'}}, {'function_trail': {'$eq': 'DataFrame-->Missing data handling'}}]}\n"
     ]
    },
    {
     "data": {
      "text/plain": [
       "{'full_function': 'Series.dropna(*, axis=0, inplace=False, how=None, ignore_index=False)',\n",
       " 'function_calling': \"{'name': 'pandas.Series.dropna', 'descriptions': 'Return a new Series with missing values removed. See the User Guide for more on which values are\\\\nconsidered missing, and how to work with missing data.', 'parameters': {'type': 'object', 'properties': {'axis': {'type': 'string', 'enum': ['0 or index'], 'description': '{0 or ‘index’}. Unused. Parameter needed for compatibility with DataFrame.\\\\n'}, 'inplace': {'type': 'boolean', 'description': 'bool, default False. If True, do operation inplace and return None.\\\\n'}, 'how': {'type': 'string', 'description': 'str, optional. Not in use. Kept for compatibility.\\\\n'}, 'ignore_index': {'type': 'boolean', 'description': 'bool, default False. If True, the resulting axis will be labeled 0, 1, …, n - 1.\\\\n\\\\nNew in version 2.0.0.\\\\n\\\\n'}}, 'required': []}}\",\n",
       " 'function_name': 'Series.dropna(*[,\\xa0axis,\\xa0inplace,\\xa0how,\\xa0...])',\n",
       " 'function_trail': 'Series-->Missing data handling',\n",
       " 'function_url': 'https://pandas.pydata.org/docs/reference/api/pandas.Series.dropna.html#pandas.Series.dropna',\n",
       " 'parent': 'Series',\n",
       " 'sub_level_name': 'Missing data handling',\n",
       " 'sub_level_trail': 'Series'}"
      ]
     },
     "execution_count": 20,
     "metadata": {},
     "output_type": "execute_result"
    }
   ],
   "source": [
    "import dspy\n",
    "from agent.utils import *\n",
    "import chromadb.utils.embedding_functions as embedding_functions\n",
    "from langchain_community.retrievers import BM25Retriever\n",
    "from langchain.schema import Document\n",
    "\n",
    "class FirstSecondLevel(dspy.Signature):\n",
    "    \"\"\"You are given a list of keys and their corresponding description separated by semicolon in the format keys: description.\n",
    "    Based on the query, you have to classify the question to one of the key or keys that is relevant to the question.\n",
    "    Be precise and output only the relevant key or keys and don't output their descriptions.\n",
    "    Don't include any other information other than the relevant keys and DON'T answer None or N/A\"\"\"\n",
    "\n",
    "    query = dspy.InputField(prefix=\"Query which you need to classify: \", format=str)\n",
    "    keys_values = dspy.InputField(prefix=\"Keys and Values: \", format=str)\n",
    "    output = dspy.OutputField(\n",
    "        prefix=\"Relevant Key(s): \",\n",
    "        format=str,\n",
    "        desc=\"relevant keys separated by semicolon\",\n",
    "    )\n",
    "\n",
    "emb_fn = embedding_functions.OpenAIEmbeddingFunction(\n",
    "    api_key=os.environ[\"OPENAI_API_KEY\"],\n",
    "    model_name=\"text-embedding-3-small\",\n",
    ")\n",
    "llm = dspy.OpenAI(\n",
    "    model=\"gpt-3.5-turbo-0125\", max_tokens=512\n",
    ")\n",
    "dspy.settings.configure(lm=llm)\n",
    "class PandasAgentBM25(dspy.Module):\n",
    "    def __init__(self, collection):\n",
    "        super().__init__()\n",
    "        self.collection = collection\n",
    "        self.firstSecondLevel = dspy.Predict(FirstSecondLevel)\n",
    "        all_docs = self.collection.get()\n",
    "        self.langchain_docs = [Document(page_content=doc,metadata=meta) for doc,meta in zip(all_docs['documents'],all_docs['metadatas'])]\n",
    "\n",
    "\n",
    "    def __call__(self, *args, **kwargs):\n",
    "        return super().__call__(*args, **kwargs)\n",
    "\n",
    "    def BM25RetrieverLangchain(\n",
    "        self, query: str, node_type: str = \"parent_node\", trail_where_clause: dict = {}\n",
    "    ):\n",
    "\n",
    "        assert node_type in [\n",
    "            \"parent_node\",\n",
    "            \"function_node\",\n",
    "            \"sub_level_node\",\n",
    "        ], \"type must be 'parent_node' or 'function_node' or 'sub_level_node'\"\n",
    "        if node_type != \"parent_node\" and trail_where_clause == {}:\n",
    "            raise ValueError(\"trail_where_clause must be a dict for function type\")\n",
    "\n",
    "        if node_type == \"parent_node\":\n",
    "            bm25_retriever = BM25Retriever.from_documents(\n",
    "                self.langchain_docs, k=3, preprocess_func=(lambda x: x.lower())\n",
    "            )\n",
    "            parent_bm25_docs = bm25_retriever.invoke(query.lower())\n",
    "            return parent_bm25_docs\n",
    "        else:\n",
    "            function_level = self.collection.get(\n",
    "                where=trail_where_clause\n",
    "            )\n",
    "            function_langchain_docs = []\n",
    "            for doc, metadata in zip(\n",
    "                function_level[\"documents\"], function_level[\"metadatas\"]\n",
    "            ):\n",
    "                function_langchain_docs.append(\n",
    "                    Document(page_content=doc, metadata=metadata)\n",
    "                )\n",
    "            if node_type == \"function_node\":\n",
    "                k = 1\n",
    "            else:\n",
    "                k = 5\n",
    "            bm25_retriever = BM25Retriever.from_documents(\n",
    "                function_langchain_docs, k=k, preprocess_func=(lambda x: x.lower())\n",
    "            )\n",
    "            bm25_docs = bm25_retriever.invoke(query.lower())\n",
    "            return bm25_docs\n",
    "\n",
    "    def forward(self, query: str):\n",
    "        parent_bm25_docs = self.BM25RetrieverLangchain(query=query)\n",
    "        parent_level_str = \"\"\n",
    "        for parent_doc in parent_bm25_docs:\n",
    "            parent_level_str += (\n",
    "                f\"{parent_doc.metadata['parent']}: {parent_doc.page_content}\\n\\n\"\n",
    "            )\n",
    "\n",
    "        parent_level_answer = self.firstSecondLevel(\n",
    "            query=query, keys_values=parent_level_str\n",
    "        ).output\n",
    "        print(parent_level_str)\n",
    "        print(parent_level_answer)\n",
    "        trail_list = parent_level_answer.split(\";\")\n",
    "        trail_list = list(set(trail_list))\n",
    "        trail_list_pairs = generate_pairs_recursive([trail_list])\n",
    "\n",
    "        trail_where_clause = get_trail_list_pairs(trail_list_pairs, \"sub_level_trail\")\n",
    "\n",
    "        sub_level_docs = self.BM25RetrieverLangchain(query,\"sub_level_node\",trail_where_clause)\n",
    "\n",
    "        sub_level_str = \"\"\n",
    "        for sub_level in sub_level_docs:\n",
    "            # if sub_level_docs in sub_level_str:\n",
    "            #     continue\n",
    "            function_level_metadata = sub_level.metadata\n",
    "            sub_level_str += f\"{function_level_metadata['parent']}#{function_level_metadata['sub_level_name']}: {sub_level.page_content}\\n\\n\"\n",
    "        print(sub_level_str)\n",
    "        sub_level_answer = self.firstSecondLevel(\n",
    "            query=query, keys_values=sub_level_str\n",
    "        ).output\n",
    "        print(sub_level_answer)\n",
    "        sub_level_list = sub_level_answer.split(\";\")\n",
    "        sub_level_list = [sla.split(\"#\")[-1] for sla in sub_level_list]\n",
    "        sub_level_list = list(set(sub_level_list))\n",
    "        function_list = generate_pairs_recursive([trail_list_pairs, sub_level_list])\n",
    "        function_where_clause = get_trail_list_pairs(function_list, \"function_trail\")\n",
    "        print(function_where_clause)\n",
    "        functions = self.BM25RetrieverLangchain(query,\"function_node\",function_where_clause)\n",
    "        return functions[0].metadata\n",
    "pandas_agent = PandasAgentBM25(pandas_collection)\n",
    "pandas_agent(\"How to impute values?\")"
   ]
  },
  {
   "cell_type": "code",
   "execution_count": 21,
   "metadata": {},
   "outputs": [
    {
     "name": "stdout",
     "output_type": "stream",
     "text": [
      "Date offsets: Standard kind of date increment used for a date range. Works exactly like the keyword argument form of relativedelta. Note that the positional argument form of relativedelata is not supported. Use of the keyword n is discouraged– you would be better off specifying n in the keywords you use, but regardless it is there for you. n is needed for DateOffset subclasses. DateOffset works as follows. Each offset specify a set of dates that conform to the DateOffset. For example, Bday defines this set to be the set of dates that are weekdays (M-F). To test if a date is in the set of a DateOffset dateOffset we can use the is_on_offset method: dateOffset.is_on_offset(date). If a date is not on a valid date, the rollback and rollforward methods can be used to roll the date to the nearest valid date before/after the date. DateOffsets can be created to move dates forward a given number of valid dates. For example, Bday(2) can be added to a date to move it two business days forward. If the date does not start on a valid date, first it is moved to a valid date. Thus pseudo code is: When a date offset is created for a negative number of periods, the date is first rolled forward. The pseudo code is: Zero presents a problem. Should it roll forward or back? We arbitrarily have it rollforward: date + BDay(0) == BDay.rollforward(date) Since 0 is a bit weird, we suggest avoiding its use. Besides, adding a DateOffsets specified by the singular form of the date component can be used to replace certain component of the timestamp.\n",
      "\n",
      "Plotting: Make a box plot from DataFrame columns. Make a box-and-whisker plot from DataFrame columns, optionally grouped by some other columns. A box plot is a method for graphically depicting groups of numerical data through their quartiles. The box extends from the Q1 to Q3 quartile values of the data, with a line at the median (Q2). The whiskers extend from the edges of box to show the range of the data. By default, they extend no more than 1.5 * IQR (IQR = Q3 - Q1) from the edges of the box, ending at the farthest data point within that interval. Outliers are plotted as separate dots. For further details see Wikipedia’s entry for boxplot.\n",
      "\n",
      "DataFrame: Make a box plot from DataFrame columns. Make a box-and-whisker plot from DataFrame columns, optionally grouped by some other columns. A box plot is a method for graphically depicting groups of numerical data through their quartiles. The box extends from the Q1 to Q3 quartile values of the data, with a line at the median (Q2). The whiskers extend from the edges of box to show the range of the data. By default, they extend no more than 1.5 * IQR (IQR = Q3 - Q1) from the edges of the box, ending at the farthest data point within that interval. Outliers are plotted as separate dots. For further details see Wikipedia’s entry for boxplot.\n",
      "\n",
      "\n",
      "DataFrame; Plotting\n",
      "DataFrame#Binary operator functions: Get Exponential power of dataframe and other, element-wise (binary operator pow). Equivalent to dataframe ** other, but with support to substitute a fill_value for missing data in one of the inputs. With reverse version, rpow. Among flexible wrappers (add, sub, mul, div, floordiv, mod, pow) to arithmetic operators: +, -, *, /, //, %, **.\n",
      "\n",
      "DataFrame#Binary operator functions: Get Exponential power of dataframe and other, element-wise (binary operator rpow). Equivalent to other ** dataframe, but with support to substitute a fill_value for missing data in one of the inputs. With reverse version, pow. Among flexible wrappers (add, sub, mul, div, floordiv, mod, pow) to arithmetic operators: +, -, *, /, //, %, **.\n",
      "\n",
      "DataFrame#Computations / descriptive stats: Compute pairwise covariance of columns, excluding NA/null values. Compute the pairwise covariance among the series of a DataFrame. The returned data frame is the covariance matrix of the columns of the DataFrame. Both NA and null values are automatically excluded from the calculation. (See the note below about bias from missing values.) A threshold can be set for the minimum number of observations for each value created. Comparisons with observations below this threshold will be returned as NaN. This method is generally used for the analysis of time series data to understand the relationship between different measures across time.\n",
      "\n",
      "DataFrame#Binary operator functions: Get Addition of dataframe and other, element-wise (binary operator radd). Equivalent to other + dataframe, but with support to substitute a fill_value for missing data in one of the inputs. With reverse version, add. Among flexible wrappers (add, sub, mul, div, floordiv, mod, pow) to arithmetic operators: +, -, *, /, //, %, **.\n",
      "\n",
      "DataFrame#Binary operator functions: Get Addition of dataframe and other, element-wise (binary operator add). Equivalent to dataframe + other, but with support to substitute a fill_value for missing data in one of the inputs. With reverse version, radd. Among flexible wrappers (add, sub, mul, div, floordiv, mod, pow) to arithmetic operators: +, -, *, /, //, %, **.\n",
      "\n",
      "\n",
      "DataFrame#Binary operator functions\n",
      "{'$or': [{'function_trail': {'$eq': 'Plotting-->Binary operator functions'}}, {'function_trail': {'$eq': 'DataFrame-->Binary operator functions'}}]}\n"
     ]
    },
    {
     "data": {
      "text/plain": [
       "{'full_function': 'DataFrame.__add__(other)',\n",
       " 'function_calling': \"{'name': 'pandas.DataFrame.__add__', 'descriptions': 'Get Addition of DataFrame and other, column-wise. Equivalent to DataFrame.add(other).', 'parameters': {'type': 'object', 'properties': {'other': {'type': 'scalar, sequence, Series, dict or DataFrame', 'description': 'scalar, sequence, Series, dict or DataFrame. Object to be added to the DataFrame.\\\\n'}}, 'required': []}}\",\n",
       " 'function_name': 'DataFrame.__add__(other)',\n",
       " 'function_trail': 'DataFrame-->Binary operator functions',\n",
       " 'function_url': 'https://pandas.pydata.org/docs/reference/api/pandas.DataFrame.__add__.html#pandas.DataFrame.__add__',\n",
       " 'parent': 'DataFrame',\n",
       " 'sub_level_name': 'Binary operator functions',\n",
       " 'sub_level_trail': 'DataFrame'}"
      ]
     },
     "execution_count": 21,
     "metadata": {},
     "output_type": "execute_result"
    }
   ],
   "source": [
    "pandas_agent(\"How to pivot a dataframe?\")"
   ]
  },
  {
   "cell_type": "code",
   "execution_count": 6,
   "metadata": {},
   "outputs": [
    {
     "data": {
      "text/plain": [
       "{'ids': [],\n",
       " 'embeddings': None,\n",
       " 'metadatas': [],\n",
       " 'documents': [],\n",
       " 'uris': None,\n",
       " 'data': None}"
      ]
     },
     "execution_count": 6,
     "metadata": {},
     "output_type": "execute_result"
    }
   ],
   "source": [
    "pandas_collection.get(\n",
    "    where={'$or': [{'function_trail': {'$eq': 'Series--> Series#Missing data handling'}}, {'function_trail': {'$eq': 'Series-->DataFrame#Missing data handling'}}, {'function_trail': {'$eq': 'DataFrame--> Series#Missing data handling'}}, {'function_trail': {'$eq': 'DataFrame-->DataFrame#Missing data handling'}}]}\n",
    ")"
   ]
  },
  {
   "cell_type": "code",
   "execution_count": 16,
   "metadata": {},
   "outputs": [
    {
     "name": "stdout",
     "output_type": "stream",
     "text": [
      "Series-->Constructor\n",
      "Series-->Attributes\n",
      "Series-->Attributes\n",
      "Series-->Attributes\n",
      "Series-->Attributes\n",
      "Series-->Attributes\n",
      "Series-->Attributes\n",
      "Series-->Attributes\n",
      "Series-->Attributes\n",
      "Series-->Attributes\n",
      "Series-->Attributes\n",
      "Series-->Attributes\n",
      "Series-->Attributes\n",
      "Series-->Attributes\n",
      "Series-->Attributes\n",
      "Series-->Attributes\n",
      "Series-->Attributes\n",
      "Series-->Conversion\n",
      "Series-->Conversion\n",
      "Series-->Conversion\n",
      "Series-->Conversion\n",
      "Series-->Conversion\n",
      "Series-->Conversion\n",
      "Series-->Conversion\n",
      "Series-->Conversion\n",
      "Series-->Conversion\n",
      "Series-->Conversion\n",
      "Series-->Indexing, iteration\n",
      "Series-->Indexing, iteration\n",
      "Series-->Indexing, iteration\n",
      "Series-->Indexing, iteration\n",
      "Series-->Indexing, iteration\n",
      "Series-->Indexing, iteration\n",
      "Series-->Indexing, iteration\n",
      "Series-->Indexing, iteration\n",
      "Series-->Indexing, iteration\n",
      "Series-->Indexing, iteration\n",
      "Series-->Indexing, iteration\n",
      "Series-->Binary operator functions\n",
      "Series-->Binary operator functions\n",
      "Series-->Binary operator functions\n",
      "Series-->Binary operator functions\n",
      "Series-->Binary operator functions\n",
      "Series-->Binary operator functions\n",
      "Series-->Binary operator functions\n",
      "Series-->Binary operator functions\n",
      "Series-->Binary operator functions\n",
      "Series-->Binary operator functions\n",
      "Series-->Binary operator functions\n",
      "Series-->Binary operator functions\n",
      "Series-->Binary operator functions\n",
      "Series-->Binary operator functions\n",
      "Series-->Binary operator functions\n",
      "Series-->Binary operator functions\n",
      "Series-->Binary operator functions\n",
      "Series-->Binary operator functions\n",
      "Series-->Binary operator functions\n",
      "Series-->Binary operator functions\n",
      "Series-->Binary operator functions\n",
      "Series-->Binary operator functions\n",
      "Series-->Binary operator functions\n",
      "Series-->Binary operator functions\n",
      "Series-->Binary operator functions\n",
      "Series-->Binary operator functions\n",
      "Series-->Binary operator functions\n",
      "Series-->Function application, GroupBy & window\n",
      "Series-->Function application, GroupBy & window\n",
      "Series-->Function application, GroupBy & window\n",
      "Series-->Function application, GroupBy & window\n",
      "Series-->Function application, GroupBy & window\n",
      "Series-->Function application, GroupBy & window\n",
      "Series-->Function application, GroupBy & window\n",
      "Series-->Function application, GroupBy & window\n",
      "Series-->Function application, GroupBy & window\n",
      "Series-->Function application, GroupBy & window\n",
      "Series-->Computations / descriptive stats\n",
      "Series-->Computations / descriptive stats\n",
      "Series-->Computations / descriptive stats\n",
      "Series-->Computations / descriptive stats\n",
      "Series-->Computations / descriptive stats\n",
      "Series-->Computations / descriptive stats\n",
      "Series-->Computations / descriptive stats\n",
      "Series-->Computations / descriptive stats\n",
      "Series-->Computations / descriptive stats\n",
      "Series-->Computations / descriptive stats\n",
      "Series-->Computations / descriptive stats\n",
      "Series-->Computations / descriptive stats\n",
      "Series-->Computations / descriptive stats\n",
      "Series-->Computations / descriptive stats\n",
      "Series-->Computations / descriptive stats\n",
      "Series-->Computations / descriptive stats\n",
      "Series-->Computations / descriptive stats\n",
      "Series-->Computations / descriptive stats\n",
      "Series-->Computations / descriptive stats\n",
      "Series-->Computations / descriptive stats\n",
      "Series-->Computations / descriptive stats\n",
      "Series-->Computations / descriptive stats\n",
      "Series-->Computations / descriptive stats\n",
      "Series-->Computations / descriptive stats\n",
      "Series-->Computations / descriptive stats\n",
      "Series-->Computations / descriptive stats\n",
      "Series-->Computations / descriptive stats\n",
      "Series-->Computations / descriptive stats\n",
      "Series-->Computations / descriptive stats\n",
      "Series-->Computations / descriptive stats\n",
      "Series-->Computations / descriptive stats\n",
      "Series-->Computations / descriptive stats\n",
      "Series-->Computations / descriptive stats\n",
      "Series-->Computations / descriptive stats\n",
      "Series-->Computations / descriptive stats\n",
      "Series-->Computations / descriptive stats\n",
      "Series-->Computations / descriptive stats\n",
      "Series-->Computations / descriptive stats\n",
      "Series-->Computations / descriptive stats\n",
      "Series-->Computations / descriptive stats\n",
      "Series-->Reindexing / selection / label manipulation\n",
      "Series-->Reindexing / selection / label manipulation\n",
      "Series-->Reindexing / selection / label manipulation\n",
      "Series-->Reindexing / selection / label manipulation\n",
      "Series-->Reindexing / selection / label manipulation\n",
      "Series-->Reindexing / selection / label manipulation\n",
      "Series-->Reindexing / selection / label manipulation\n",
      "Series-->Reindexing / selection / label manipulation\n",
      "Series-->Reindexing / selection / label manipulation\n",
      "Series-->Reindexing / selection / label manipulation\n",
      "Series-->Reindexing / selection / label manipulation\n",
      "Series-->Reindexing / selection / label manipulation\n",
      "Series-->Reindexing / selection / label manipulation\n",
      "Series-->Reindexing / selection / label manipulation\n",
      "Series-->Reindexing / selection / label manipulation\n",
      "Series-->Reindexing / selection / label manipulation\n",
      "Series-->Reindexing / selection / label manipulation\n",
      "Series-->Reindexing / selection / label manipulation\n",
      "Series-->Reindexing / selection / label manipulation\n",
      "Series-->Reindexing / selection / label manipulation\n",
      "Series-->Reindexing / selection / label manipulation\n",
      "Series-->Reindexing / selection / label manipulation\n",
      "Series-->Reindexing / selection / label manipulation\n",
      "Series-->Reindexing / selection / label manipulation\n",
      "Series-->Reindexing / selection / label manipulation\n",
      "Series-->Reindexing / selection / label manipulation\n",
      "Series-->Reindexing / selection / label manipulation\n",
      "Series-->Reindexing / selection / label manipulation\n",
      "Series-->Missing data handling\n",
      "Series-->Missing data handling\n",
      "Series-->Missing data handling\n",
      "Series-->Missing data handling\n",
      "Series-->Missing data handling\n",
      "Series-->Missing data handling\n",
      "Series-->Missing data handling\n",
      "Series-->Missing data handling\n",
      "Series-->Missing data handling\n",
      "Series-->Missing data handling\n",
      "Series-->Missing data handling\n",
      "Series-->Missing data handling\n",
      "Series-->Reshaping, sorting\n",
      "Series-->Reshaping, sorting\n",
      "Series-->Reshaping, sorting\n",
      "Series-->Reshaping, sorting\n",
      "Series-->Reshaping, sorting\n",
      "Series-->Reshaping, sorting\n",
      "Series-->Reshaping, sorting\n",
      "Series-->Reshaping, sorting\n",
      "Series-->Reshaping, sorting\n",
      "Series-->Reshaping, sorting\n",
      "Series-->Reshaping, sorting\n",
      "Series-->Reshaping, sorting\n",
      "Series-->Reshaping, sorting\n",
      "Series-->Reshaping, sorting\n",
      "Series-->Combining / comparing / joining / merging\n",
      "Series-->Combining / comparing / joining / merging\n",
      "Series-->Time Series-related\n",
      "Series-->Time Series-related\n",
      "Series-->Time Series-related\n",
      "Series-->Time Series-related\n",
      "Series-->Time Series-related\n",
      "Series-->Time Series-related\n",
      "Series-->Time Series-related\n",
      "Series-->Time Series-related\n",
      "Series-->Time Series-related\n",
      "Series-->Time Series-related\n",
      "Series-->Accessors\n",
      "Series-->Accessors\n",
      "Series-->Accessors\n",
      "Series-->Accessors\n",
      "Series-->Accessors\n",
      "Series-->Accessors\n",
      "Series-->Accessors\n",
      "Series-->Accessors\n",
      "Series-->Accessors\n",
      "Series-->Accessors\n",
      "Series-->Accessors\n",
      "Series-->Accessors\n",
      "Series-->Accessors\n",
      "Series-->Accessors\n",
      "Series-->Accessors\n",
      "Series-->Accessors\n",
      "Series-->Accessors\n",
      "Series-->Accessors\n",
      "Series-->Accessors\n",
      "Series-->Accessors\n",
      "Series-->Accessors\n",
      "Series-->Accessors\n",
      "Series-->Accessors\n",
      "Series-->Accessors\n",
      "Series-->Accessors\n",
      "Series-->Accessors\n",
      "Series-->Accessors\n",
      "Series-->Accessors\n",
      "Series-->Accessors\n",
      "Series-->Accessors\n",
      "Series-->Accessors\n",
      "Series-->Accessors\n",
      "Series-->Accessors\n",
      "Series-->Accessors\n",
      "Series-->Accessors\n",
      "Series-->Accessors\n",
      "Series-->Accessors\n",
      "Series-->Accessors\n",
      "Series-->Accessors\n",
      "Series-->Accessors\n",
      "Series-->Accessors\n",
      "Series-->Accessors\n",
      "Series-->Accessors\n",
      "Series-->Accessors\n",
      "Series-->Accessors\n",
      "Series-->Accessors\n",
      "Series-->Accessors\n",
      "Series-->Accessors\n",
      "Series-->Accessors\n",
      "Series-->Accessors\n",
      "Series-->Accessors\n",
      "Series-->Accessors\n",
      "Series-->Accessors\n",
      "Series-->Accessors\n",
      "Series-->Accessors\n",
      "Series-->Accessors\n",
      "Series-->Accessors\n",
      "Series-->Accessors\n",
      "Series-->Accessors\n",
      "Series-->Accessors\n",
      "Series-->Accessors\n",
      "Series-->Accessors\n",
      "Series-->Accessors\n",
      "Series-->Accessors\n",
      "Series-->Accessors\n",
      "Series-->Accessors\n",
      "Series-->Accessors\n",
      "Series-->Accessors\n",
      "Series-->Accessors\n",
      "Series-->Accessors\n",
      "Series-->Plotting\n",
      "Series-->Plotting\n",
      "Series-->Plotting\n",
      "Series-->Plotting\n",
      "Series-->Plotting\n",
      "Series-->Plotting\n",
      "Series-->Plotting\n",
      "Series-->Plotting\n",
      "Series-->Plotting\n",
      "Series-->Plotting\n",
      "Series-->Plotting\n",
      "Series-->Serialization / IO / conversion\n",
      "Series-->Serialization / IO / conversion\n",
      "Series-->Serialization / IO / conversion\n",
      "Series-->Serialization / IO / conversion\n",
      "Series-->Serialization / IO / conversion\n",
      "Series-->Serialization / IO / conversion\n",
      "Series-->Serialization / IO / conversion\n",
      "Series-->Serialization / IO / conversion\n",
      "Series-->Serialization / IO / conversion\n",
      "Series-->Serialization / IO / conversion\n",
      "Series-->Serialization / IO / conversion\n",
      "Series-->Serialization / IO / conversion\n",
      "Series-->Serialization / IO / conversion\n"
     ]
    }
   ],
   "source": [
    "for meta in metadata:\n",
    "    if meta['function_trail'].startswith('Series'):\n",
    "        print(meta['function_trail'])"
   ]
  },
  {
   "cell_type": "code",
   "execution_count": null,
   "metadata": {},
   "outputs": [],
   "source": []
  }
 ],
 "metadata": {
  "kernelspec": {
   "display_name": "openbb-env",
   "language": "python",
   "name": "python3"
  },
  "language_info": {
   "codemirror_mode": {
    "name": "ipython",
    "version": 3
   },
   "file_extension": ".py",
   "mimetype": "text/x-python",
   "name": "python",
   "nbconvert_exporter": "python",
   "pygments_lexer": "ipython3",
   "version": "3.10.12"
  }
 },
 "nbformat": 4,
 "nbformat_minor": 2
}
