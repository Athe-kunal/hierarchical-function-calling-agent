{
 "cells": [
  {
   "cell_type": "code",
   "execution_count": 2,
   "metadata": {},
   "outputs": [],
   "source": [
    "# from sklearn_agent import scrape_sklearn_website\n",
    "# scrape_sklearn_website()"
   ]
  },
  {
   "cell_type": "code",
   "execution_count": 3,
   "metadata": {},
   "outputs": [
    {
     "data": {
      "text/plain": [
       "Collection(name=sklearn_docs)"
      ]
     },
     "execution_count": 3,
     "metadata": {},
     "output_type": "execute_result"
    }
   ],
   "source": [
    "from sklearn_agent import build_database, build_docs_metadata\n",
    "from dotenv import load_dotenv,find_dotenv\n",
    "import os\n",
    "load_dotenv(find_dotenv(),override=True)\n",
    "docs,metadata = build_docs_metadata()\n",
    "build_database(docs,metadata,os.environ['OPENAI_API_KEY'])"
   ]
  },
  {
   "cell_type": "code",
   "execution_count": 4,
   "metadata": {},
   "outputs": [],
   "source": [
    "from sklearn_agent import load_database\n",
    "\n",
    "sklearn_collection = load_database(os.environ['OPENAI_API_KEY'])"
   ]
  },
  {
   "cell_type": "code",
   "execution_count": 5,
   "metadata": {},
   "outputs": [],
   "source": [
    "import dspy\n",
    "import dspy\n",
    "from dotenv import load_dotenv, find_dotenv\n",
    "import yaml\n",
    "import chromadb.utils.embedding_functions as embedding_functions\n",
    "import os\n",
    "from sklearn_agent.agent.utils import *\n",
    "with open(\"sklearn_agent/config.yaml\") as stream:\n",
    "    try:\n",
    "        config_params = yaml.safe_load(stream)\n",
    "    except yaml.YAMLError as exc:\n",
    "        print(exc)\n",
    "class FirstSecondLevel(dspy.Signature):\n",
    "    \"\"\"You are given a list of keys and their corresponding description separated by semicolon in the format keys: description.\n",
    "    Based on the query, you have to classify the question to one of the key or keys that is relevant to the question.\n",
    "    Be precise and output only the relevant key or keys and don't output their descriptions.\n",
    "    Don't include any other information and DON'T answer None or N/A\"\"\"\n",
    "\n",
    "    query = dspy.InputField(prefix=\"Query which you need to classify: \", format=str)\n",
    "    keys_values = dspy.InputField(prefix=\"Keys and Values: \", format=str)\n",
    "    output = dspy.OutputField(\n",
    "        prefix=\"Relevant Key(s): \",\n",
    "        format=str,\n",
    "        desc=\"relevant keys separated by semicolon\",\n",
    "    )\n",
    "\n",
    "\n",
    "emb_fn = embedding_functions.OpenAIEmbeddingFunction(\n",
    "    api_key=os.environ[\"OPENAI_API_KEY\"],\n",
    "    model_name=config_params[\"VECTORDB\"][\"EMBEDDING_MODEL_NAME\"],\n",
    ")\n",
    "\n",
    "llm = dspy.OpenAI(\n",
    "    model=config_params[\"LEVEL_NODE_LLM\"][\"OPENAI_LLM_MODEL\"], max_tokens=512\n",
    ")\n",
    "dspy.settings.configure(lm=llm)\n",
    "\n",
    "class SklearnAgentChroma(dspy.Module):\n",
    "    def __init__(self, collection):\n",
    "        super().__init__()\n",
    "        self.collection = collection\n",
    "        self.firstSecondLevel = dspy.Predict(FirstSecondLevel)\n",
    "\n",
    "    def __call__(self, *args, **kwargs):\n",
    "        return super().__call__(*args, **kwargs)\n",
    "\n",
    "    def forward(self, query: str):\n",
    "        query_emb = emb_fn([query])[0]\n",
    "\n",
    "        # Parent level querying\n",
    "        parent_level = self.collection.query(\n",
    "            query_embeddings=query_emb,\n",
    "            n_results=3,\n",
    "        )\n",
    "        parent_level_str = \"\"\n",
    "        for parent_level_docs, parent_level_metadata in zip(\n",
    "            parent_level[\"documents\"][0], parent_level[\"metadatas\"][0]\n",
    "        ):\n",
    "            if parent_level_docs in parent_level_str:\n",
    "                continue\n",
    "            parent_level_str += (\n",
    "                f\"{parent_level_metadata['parent']}: {parent_level_docs}\\n\\n\"\n",
    "            )\n",
    "\n",
    "        parent_level_answer = self.firstSecondLevel(\n",
    "            query=query, keys_values=parent_level_str\n",
    "        ).output\n",
    "        print(parent_level_str, parent_level_answer)\n",
    "        trail_list = parent_level_answer.split(\";\")\n",
    "        trail_list = list(set(trail_list))\n",
    "        trail_list_pairs = generate_pairs_recursive([trail_list])\n",
    "\n",
    "        trail_where_clause = get_trail_list_pairs(trail_list_pairs, \"sub_level_trail\")\n",
    "\n",
    "        sub_level = self.collection.query(\n",
    "            query_embeddings=query_emb,\n",
    "            where=trail_where_clause,\n",
    "            n_results=3,\n",
    "        )\n",
    "\n",
    "        sub_level_str = \"\"\n",
    "        for sub_level_docs, function_level_metadata in zip(\n",
    "            sub_level[\"documents\"][0], sub_level[\"metadatas\"][0]\n",
    "        ):\n",
    "            if sub_level_docs in sub_level_str:\n",
    "                continue\n",
    "            sub_level_str += f\"{function_level_metadata['parent']}#{function_level_metadata['sub_level_name']}: {sub_level_docs}\\n\\n\"\n",
    "        print(sub_level_str)\n",
    "        sub_level_answer = self.firstSecondLevel(\n",
    "            query=query, keys_values=sub_level_str\n",
    "        ).output\n",
    "        print(sub_level_answer)\n",
    "        sub_level_list = sub_level_answer.split(\";\")\n",
    "        sub_level_list = [sbl.split(\"#\")[-1] for sbl in sub_level_list]\n",
    "        sub_level_list = list(set(sub_level_list))\n",
    "        function_list = generate_pairs_recursive([trail_list_pairs, sub_level_list])\n",
    "        function_where_clause = get_trail_list_pairs(function_list, \"function_trail\")\n",
    "        print(function_where_clause)\n",
    "        functions = self.collection.query(\n",
    "            query_embeddings=query_emb, where=function_where_clause, n_results=1\n",
    "        )\n",
    "        return functions[\"metadatas\"][0]\n"
   ]
  },
  {
   "cell_type": "code",
   "execution_count": 6,
   "metadata": {},
   "outputs": [],
   "source": [
    "sklearn_chroma_agent = SklearnAgentChroma(sklearn_collection)"
   ]
  },
  {
   "cell_type": "code",
   "execution_count": 19,
   "metadata": {},
   "outputs": [
    {
     "name": "stdout",
     "output_type": "stream",
     "text": [
      "sklearn.feature_selection: Compute Pearson’s r for each features and the target. Pearson’s r is also known as the Pearson correlation coefficient. Linear model for testing the individual effect of each of many regressors. This is a scoring function to be used in a feature selection procedure, not a free standing feature selection procedure. The cross correlation between each regressor and the target is computed as: For more on usage see the User Guide. Added in version 1.0.\n",
      "\n",
      "sklearn.isotonic: Determine whether y is monotonically correlated with x. y is found increasing or decreasing with respect to x based on a Spearman correlation test.\n",
      "\n",
      "sklearn.feature_selection: Univariate linear regression tests returning F-statistic and p-values. Quick linear model for testing the effect of a single regressor, sequentially for many regressors. This is done in 2 steps: The cross correlation between each regressor and the target is computed using r_regression as: It is converted to an F score and then to a p-value. f_regression is derived from r_regression and will rank features in the same order if all the features are positively correlated with the target. Note however that contrary to f_regression, r_regression values lie in [-1, 1] and can thus be negative. f_regression is therefore recommended as a feature selection criterion to identify potentially predictive feature for a downstream classifier, irrespective of the sign of the association with the target variable. Furthermore f_regression returns p-values while r_regression does not. Read more in the User Guide.\n",
      "\n",
      " sklearn.feature_selection\n",
      "sklearn.feature_selection#defaults: Compute Pearson’s r for each features and the target. Pearson’s r is also known as the Pearson correlation coefficient. Linear model for testing the individual effect of each of many regressors. This is a scoring function to be used in a feature selection procedure, not a free standing feature selection procedure. The cross correlation between each regressor and the target is computed as: For more on usage see the User Guide. Added in version 1.0.\n",
      "\n",
      "sklearn.feature_selection#defaults: Univariate linear regression tests returning F-statistic and p-values. Quick linear model for testing the effect of a single regressor, sequentially for many regressors. This is done in 2 steps: The cross correlation between each regressor and the target is computed using r_regression as: It is converted to an F score and then to a p-value. f_regression is derived from r_regression and will rank features in the same order if all the features are positively correlated with the target. Note however that contrary to f_regression, r_regression values lie in [-1, 1] and can thus be negative. f_regression is therefore recommended as a feature selection criterion to identify potentially predictive feature for a downstream classifier, irrespective of the sign of the association with the target variable. Furthermore f_regression returns p-values while r_regression does not. Read more in the User Guide.\n",
      "\n",
      "sklearn.feature_selection#defaults: Compute the ANOVA F-value for the provided sample. Read more in the User Guide.\n",
      "\n",
      "\n",
      "sklearn.feature_selection#defaults\n",
      "{'function_trail': {'$eq': 'sklearn.feature_selection-->defaults'}}\n"
     ]
    }
   ],
   "source": [
    "# funcs = sklearn_chroma_agent(\"How to do quadratic discriminant analysis?\")\n",
    "funcs = sklearn_chroma_agent(\"I want to find the pearson correlation between stocks?\")"
   ]
  },
  {
   "cell_type": "code",
   "execution_count": 20,
   "metadata": {},
   "outputs": [
    {
     "data": {
      "text/plain": [
       "[{'full_function': 'sklearn.feature_selection.r_regression(X, y, *, center=True, force_finite=True)',\n",
       "  'function_calling': \"{'name': 'r_regression', 'descriptions': 'Compute Pearson’s r for each features and the target. Pearson’s r is also known as the Pearson correlation coefficient. Linear model for testing the individual effect of each of many regressors.\\\\nThis is a scoring function to be used in a feature selection procedure, not\\\\na free standing feature selection procedure. The cross correlation between each regressor and the target is computed\\\\nas: For more on usage see the User Guide. Added in version 1.0.', 'parameters': {'type': 'object', 'properties': {'X': {'type': 'array', 'items': {'type': 'number', 'description': '{array-like, sparse matrix} of shape (n_samples, n_features). The data matrix.\\\\n'}}, 'y': {'type': 'array', 'items': {'type': 'number', 'description': 'array-like of shape (n_samples,). The target vector.\\\\n'}}, 'center': {'type': 'boolean', 'description': 'bool, default=True. Whether or not to center the data matrix X and the target vector y.\\\\nBy default, X and y will be centered.\\\\n'}, 'force_finite': {'type': 'boolean', 'description': 'bool, default=True. Whether or not to force the Pearson’s R correlation to be finite.\\\\nIn the particular case where some features in X or the target y\\\\nare constant, the Pearson’s R correlation is not defined. When\\\\nforce_finite=False, a correlation of np.nan is returned to\\\\nacknowledge this case. When force_finite=True, this value will be\\\\nforced to a minimal correlation of 0.0.\\\\n\\\\nAdded in version 1.1.\\\\n\\\\n'}}, 'required': ['X', 'y']}}\",\n",
       "  'function_name': 'r_regression',\n",
       "  'function_trail': 'sklearn.feature_selection-->defaults',\n",
       "  'function_url': 'https://scikit-learn.org/stable/modules/generated/sklearn.feature_selection.r_regression.html#sklearn.feature_selection.r_regression',\n",
       "  'parameters_names_desc': \"[{'param_name': 'X', 'param_type': '{array-like, sparse matrix} of shape (n_samples, n_features)', 'param_desc': 'The data matrix.\\\\n'}, {'param_name': 'y', 'param_type': 'array-like of shape (n_samples,)', 'param_desc': 'The target vector.\\\\n'}, {'param_name': 'center', 'param_type': 'bool, default=True', 'param_desc': 'Whether or not to center the data matrix X and the target vector y.\\\\nBy default, X and y will be centered.\\\\n'}, {'param_name': 'force_finite', 'param_type': 'bool, default=True', 'param_desc': 'Whether or not to force the Pearson’s R correlation to be finite.\\\\nIn the particular case where some features in X or the target y\\\\nare constant, the Pearson’s R correlation is not defined. When\\\\nforce_finite=False, a correlation of np.nan is returned to\\\\nacknowledge this case. When force_finite=True, this value will be\\\\nforced to a minimal correlation of 0.0.\\\\n\\\\nAdded in version 1.1.\\\\n\\\\n'}]\",\n",
       "  'parent': 'sklearn.feature_selection',\n",
       "  'sub_level_name': 'defaults',\n",
       "  'sub_level_trail': 'sklearn.feature_selection'}]"
      ]
     },
     "execution_count": 20,
     "metadata": {},
     "output_type": "execute_result"
    }
   ],
   "source": [
    "funcs"
   ]
  },
  {
   "cell_type": "code",
   "execution_count": 21,
   "metadata": {},
   "outputs": [
    {
     "data": {
      "text/plain": [
       "[{'full_function': 'sklearn.feature_selection.r_regression(X, y, *, center=True, force_finite=True)',\n",
       "  'function_calling': \"{'name': 'r_regression', 'descriptions': 'Compute Pearson’s r for each features and the target. Pearson’s r is also known as the Pearson correlation coefficient. Linear model for testing the individual effect of each of many regressors.\\\\nThis is a scoring function to be used in a feature selection procedure, not\\\\na free standing feature selection procedure. The cross correlation between each regressor and the target is computed\\\\nas: For more on usage see the User Guide. Added in version 1.0.', 'parameters': {'type': 'object', 'properties': {'X': {'type': 'array', 'items': {'type': 'number', 'description': '{array-like, sparse matrix} of shape (n_samples, n_features). The data matrix.\\\\n'}}, 'y': {'type': 'array', 'items': {'type': 'number', 'description': 'array-like of shape (n_samples,). The target vector.\\\\n'}}, 'center': {'type': 'boolean', 'description': 'bool, default=True. Whether or not to center the data matrix X and the target vector y.\\\\nBy default, X and y will be centered.\\\\n'}, 'force_finite': {'type': 'boolean', 'description': 'bool, default=True. Whether or not to force the Pearson’s R correlation to be finite.\\\\nIn the particular case where some features in X or the target y\\\\nare constant, the Pearson’s R correlation is not defined. When\\\\nforce_finite=False, a correlation of np.nan is returned to\\\\nacknowledge this case. When force_finite=True, this value will be\\\\nforced to a minimal correlation of 0.0.\\\\n\\\\nAdded in version 1.1.\\\\n\\\\n'}}, 'required': ['X', 'y']}}\",\n",
       "  'function_name': 'r_regression',\n",
       "  'function_trail': 'sklearn.feature_selection-->defaults',\n",
       "  'function_url': 'https://scikit-learn.org/stable/modules/generated/sklearn.feature_selection.r_regression.html#sklearn.feature_selection.r_regression',\n",
       "  'parameters_names_desc': \"[{'param_name': 'X', 'param_type': '{array-like, sparse matrix} of shape (n_samples, n_features)', 'param_desc': 'The data matrix.\\\\n'}, {'param_name': 'y', 'param_type': 'array-like of shape (n_samples,)', 'param_desc': 'The target vector.\\\\n'}, {'param_name': 'center', 'param_type': 'bool, default=True', 'param_desc': 'Whether or not to center the data matrix X and the target vector y.\\\\nBy default, X and y will be centered.\\\\n'}, {'param_name': 'force_finite', 'param_type': 'bool, default=True', 'param_desc': 'Whether or not to force the Pearson’s R correlation to be finite.\\\\nIn the particular case where some features in X or the target y\\\\nare constant, the Pearson’s R correlation is not defined. When\\\\nforce_finite=False, a correlation of np.nan is returned to\\\\nacknowledge this case. When force_finite=True, this value will be\\\\nforced to a minimal correlation of 0.0.\\\\n\\\\nAdded in version 1.1.\\\\n\\\\n'}]\",\n",
       "  'parent': 'sklearn.feature_selection',\n",
       "  'sub_level_name': 'defaults',\n",
       "  'sub_level_trail': 'sklearn.feature_selection'}]"
      ]
     },
     "execution_count": 21,
     "metadata": {},
     "output_type": "execute_result"
    }
   ],
   "source": [
    "funcs"
   ]
  },
  {
   "cell_type": "code",
   "execution_count": 22,
   "metadata": {},
   "outputs": [],
   "source": [
    "import ast\n",
    "\n",
    "function_calling_dict = ast.literal_eval(funcs[0]['function_calling'])"
   ]
  },
  {
   "cell_type": "code",
   "execution_count": 23,
   "metadata": {},
   "outputs": [
    {
     "data": {
      "text/plain": [
       "{'name': 'r_regression',\n",
       " 'descriptions': 'Compute Pearson’s r for each features and the target. Pearson’s r is also known as the Pearson correlation coefficient. Linear model for testing the individual effect of each of many regressors.\\nThis is a scoring function to be used in a feature selection procedure, not\\na free standing feature selection procedure. The cross correlation between each regressor and the target is computed\\nas: For more on usage see the User Guide. Added in version 1.0.',\n",
       " 'parameters': {'type': 'object',\n",
       "  'properties': {'X': {'type': 'array',\n",
       "    'items': {'type': 'number',\n",
       "     'description': '{array-like, sparse matrix} of shape (n_samples, n_features). The data matrix.\\n'}},\n",
       "   'y': {'type': 'array',\n",
       "    'items': {'type': 'number',\n",
       "     'description': 'array-like of shape (n_samples,). The target vector.\\n'}},\n",
       "   'center': {'type': 'boolean',\n",
       "    'description': 'bool, default=True. Whether or not to center the data matrix X and the target vector y.\\nBy default, X and y will be centered.\\n'},\n",
       "   'force_finite': {'type': 'boolean',\n",
       "    'description': 'bool, default=True. Whether or not to force the Pearson’s R correlation to be finite.\\nIn the particular case where some features in X or the target y\\nare constant, the Pearson’s R correlation is not defined. When\\nforce_finite=False, a correlation of np.nan is returned to\\nacknowledge this case. When force_finite=True, this value will be\\nforced to a minimal correlation of 0.0.\\n\\nAdded in version 1.1.\\n\\n'}},\n",
       "  'required': ['X', 'y']}}"
      ]
     },
     "execution_count": 23,
     "metadata": {},
     "output_type": "execute_result"
    }
   ],
   "source": [
    "function_calling_dict"
   ]
  },
  {
   "cell_type": "code",
   "execution_count": 24,
   "metadata": {},
   "outputs": [],
   "source": [
    "from langchain_openai import ChatOpenAI\n",
    "from langchain.prompts import ChatPromptTemplate\n",
    "\n",
    "prompt = ChatPromptTemplate.from_messages([(\"human\", \"{input}\"),(\"system\",\"You can write functions from the given tool. Double check your response with correct parameter names and values. Also, check for any invalid parameter values\")])\n",
    "\n",
    "model = ChatOpenAI(temperature=0,model=\"gpt-3.5-turbo\").bind(\n",
    "        functions=[function_calling_dict], function_call={\"name\": function_calling_dict[\"name\"]}\n",
    "    )"
   ]
  },
  {
   "cell_type": "code",
   "execution_count": 25,
   "metadata": {},
   "outputs": [
    {
     "data": {
      "text/plain": [
       "{'name': 'r_regression',\n",
       " 'descriptions': 'Compute Pearson’s r for each features and the target. Pearson’s r is also known as the Pearson correlation coefficient. Linear model for testing the individual effect of each of many regressors.\\nThis is a scoring function to be used in a feature selection procedure, not\\na free standing feature selection procedure. The cross correlation between each regressor and the target is computed\\nas: For more on usage see the User Guide. Added in version 1.0.',\n",
       " 'parameters': {'type': 'object',\n",
       "  'properties': {'X': {'type': 'array',\n",
       "    'items': {'type': 'number',\n",
       "     'description': '{array-like, sparse matrix} of shape (n_samples, n_features). The data matrix.\\n'}},\n",
       "   'y': {'type': 'array',\n",
       "    'items': {'type': 'number',\n",
       "     'description': 'array-like of shape (n_samples,). The target vector.\\n'}},\n",
       "   'center': {'type': 'boolean',\n",
       "    'description': 'bool, default=True. Whether or not to center the data matrix X and the target vector y.\\nBy default, X and y will be centered.\\n'},\n",
       "   'force_finite': {'type': 'boolean',\n",
       "    'description': 'bool, default=True. Whether or not to force the Pearson’s R correlation to be finite.\\nIn the particular case where some features in X or the target y\\nare constant, the Pearson’s R correlation is not defined. When\\nforce_finite=False, a correlation of np.nan is returned to\\nacknowledge this case. When force_finite=True, this value will be\\nforced to a minimal correlation of 0.0.\\n\\nAdded in version 1.1.\\n\\n'}},\n",
       "  'required': ['X', 'y']}}"
      ]
     },
     "execution_count": 25,
     "metadata": {},
     "output_type": "execute_result"
    }
   ],
   "source": [
    "function_calling_dict"
   ]
  },
  {
   "cell_type": "code",
   "execution_count": 26,
   "metadata": {},
   "outputs": [],
   "source": [
    "runnable = prompt | model\n",
    "\n",
    "resp = runnable.invoke({\"input\": \"I want to find the pearson correlation between stocks?\"})"
   ]
  },
  {
   "cell_type": "code",
   "execution_count": 27,
   "metadata": {},
   "outputs": [
    {
     "data": {
      "text/plain": [
       "AIMessage(content='', additional_kwargs={'function_call': {'arguments': '{}', 'name': 'r_regression'}}, response_metadata={'token_usage': {'completion_tokens': 1, 'prompt_tokens': 280, 'total_tokens': 281}, 'model_name': 'gpt-3.5-turbo', 'system_fingerprint': None, 'finish_reason': 'stop', 'logprobs': None}, id='run-42099d96-df60-4821-9636-976b8eef3ecc-0')"
      ]
     },
     "execution_count": 27,
     "metadata": {},
     "output_type": "execute_result"
    }
   ],
   "source": [
    "resp"
   ]
  },
  {
   "cell_type": "code",
   "execution_count": null,
   "metadata": {},
   "outputs": [],
   "source": []
  }
 ],
 "metadata": {
  "kernelspec": {
   "display_name": "openbb-env",
   "language": "python",
   "name": "python3"
  },
  "language_info": {
   "codemirror_mode": {
    "name": "ipython",
    "version": 3
   },
   "file_extension": ".py",
   "mimetype": "text/x-python",
   "name": "python",
   "nbconvert_exporter": "python",
   "pygments_lexer": "ipython3",
   "version": "3.10.12"
  }
 },
 "nbformat": 4,
 "nbformat_minor": 2
}
