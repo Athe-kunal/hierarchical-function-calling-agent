{
 "cells": [
  {
   "cell_type": "code",
   "execution_count": 1,
   "metadata": {},
   "outputs": [],
   "source": [
    "import json\n",
    "\n",
    "with open(\"sklearn_agent/data/sklearn_function_openai.json\") as f:\n",
    "    data = json.load(f)"
   ]
  },
  {
   "cell_type": "code",
   "execution_count": 2,
   "metadata": {},
   "outputs": [
    {
     "data": {
      "text/plain": [
       "{'defaults': [{'func_name': 'config_context',\n",
       "   'func_desc': 'Context manager for global scikit-learn configuration.',\n",
       "   'func_url': 'https://scikit-learn.org/stable/modules/generated/sklearn.config_context.html#sklearn.config_context',\n",
       "   'function_definitions': {'function_name': 'config_context',\n",
       "    'full_function': 'sklearn.config_context(*, assume_finite=None, working_memory=None, print_changed_only=None, display=None, pairwise_dist_chunk_size=None, enable_cython_pairwise_dist=None, array_api_dispatch=None, transform_output=None, enable_metadata_routing=None, skip_parameter_validation=None)',\n",
       "    'function_text': 'Context manager for global scikit-learn configuration.',\n",
       "    'func_text_user_guide': 'https://scikit-learn.org/stable/modules/array_api.html#array-api',\n",
       "    'parameter_names_desc': [{'param_name': 'assume_finite',\n",
       "      'param_type': 'bool, default=None',\n",
       "      'param_desc': 'If True, validation for finiteness will be skipped,\\nsaving time, but leading to potential crashes. If\\nFalse, validation for finiteness will be performed,\\navoiding error. If None, the existing value won’t change.\\nThe default value is False.\\n'},\n",
       "     {'param_name': 'working_memory',\n",
       "      'param_type': 'int, default=None',\n",
       "      'param_desc': 'If set, scikit-learn will attempt to limit the size of temporary arrays\\nto this number of MiB (per job when parallelised), often saving both\\ncomputation time and memory on expensive operations that can be\\nperformed in chunks. If None, the existing value won’t change.\\nThe default value is 1024.\\n'},\n",
       "     {'param_name': 'print_changed_only',\n",
       "      'param_type': 'bool, default=None',\n",
       "      'param_desc': 'If True, only the parameters that were set to non-default\\nvalues will be printed when printing an estimator. For example,\\nprint(SVC()) while True will only print ‘SVC()’, but would print\\n‘SVC(C=1.0, cache_size=200, …)’ with all the non-changed parameters\\nwhen False. If None, the existing value won’t change.\\nThe default value is True.\\n\\nChanged in version 0.23: Default changed from False to True.\\n\\n'},\n",
       "     {'param_name': 'display',\n",
       "      'param_type': '{‘text’, ‘diagram’}, default=None',\n",
       "      'param_desc': 'If ‘diagram’, estimators will be displayed as a diagram in a Jupyter\\nlab or notebook context. If ‘text’, estimators will be displayed as\\ntext. If None, the existing value won’t change.\\nThe default value is ‘diagram’.\\n\\nAdded in version 0.23.\\n\\n'},\n",
       "     {'param_name': 'pairwise_dist_chunk_size',\n",
       "      'param_type': 'int, default=None',\n",
       "      'param_desc': 'The number of row vectors per chunk for the accelerated pairwise-\\ndistances reduction backend. Default is 256 (suitable for most of\\nmodern laptops’ caches and architectures).\\nIntended for easier benchmarking and testing of scikit-learn internals.\\nEnd users are not expected to benefit from customizing this configuration\\nsetting.\\n\\nAdded in version 1.1.\\n\\n'},\n",
       "     {'param_name': 'enable_cython_pairwise_dist',\n",
       "      'param_type': 'bool, default=None',\n",
       "      'param_desc': 'Use the accelerated pairwise-distances reduction backend when\\npossible. Global default: True.\\nIntended for easier benchmarking and testing of scikit-learn internals.\\nEnd users are not expected to benefit from customizing this configuration\\nsetting.\\n\\nAdded in version 1.1.\\n\\n'},\n",
       "     {'param_name': 'array_api_dispatch',\n",
       "      'param_type': 'bool, default=None',\n",
       "      'param_desc': 'Use Array API dispatching when inputs follow the Array API standard.\\nDefault is False.\\nSee the User Guide for more details.\\n\\nAdded in version 1.2.\\n\\n'},\n",
       "     {'param_name': 'transform_output',\n",
       "      'param_type': 'str, default=None',\n",
       "      'param_desc': 'Configure output of transform and fit_transform.\\nSee Introducing the set_output API\\nfor an example on how to use the API.\\n\\n\"default\": Default output format of a transformer\\n\"pandas\": DataFrame output\\n\"polars\": Polars output\\nNone: Transform configuration is unchanged\\n\\n\\nAdded in version 1.2.\\n\\n\\nAdded in version 1.4: \"polars\" option was added.\\n\\n'},\n",
       "     {'param_name': 'enable_metadata_routing',\n",
       "      'param_type': 'bool, default=None',\n",
       "      'param_desc': 'Enable metadata routing. By default this feature is disabled.\\nRefer to metadata routing user guide for more\\ndetails.\\n\\nTrue: Metadata routing is enabled\\nFalse: Metadata routing is disabled, use the old syntax.\\nNone: Configuration is unchanged\\n\\n\\nAdded in version 1.3.\\n\\n'},\n",
       "     {'param_name': 'skip_parameter_validation',\n",
       "      'param_type': 'bool, default=None',\n",
       "      'param_desc': 'If True, disable the validation of the hyper-parameters’ types and values in\\nthe fit method of estimators and for arguments passed to public helper\\nfunctions. It can save time in some situations but can lead to low level\\ncrashes and exceptions with confusing error messages.\\nNote that for data parameters, such as X and y, only type validation is\\nskipped but validation with check_array will continue to run.\\n\\nAdded in version 1.3.\\n\\n'}]},\n",
       "   'function_calling': {'name': 'config_context',\n",
       "    'descriptions': 'Context manager for global scikit-learn configuration.',\n",
       "    'parameters': {'type': 'object',\n",
       "     'properties': {'assume_finite': {'type': 'boolean',\n",
       "       'description': 'bool, default=None. If True, validation for finiteness will be skipped,\\nsaving time, but leading to potential crashes. If\\nFalse, validation for finiteness will be performed,\\navoiding error. If None, the existing value won’t change.\\nThe default value is False.\\n'},\n",
       "      'working_memory': {'type': 'integer',\n",
       "       'description': 'int, default=None. If set, scikit-learn will attempt to limit the size of temporary arrays\\nto this number of MiB (per job when parallelised), often saving both\\ncomputation time and memory on expensive operations that can be\\nperformed in chunks. If None, the existing value won’t change.\\nThe default value is 1024.\\n'},\n",
       "      'print_changed_only': {'type': 'boolean',\n",
       "       'description': 'bool, default=None. If True, only the parameters that were set to non-default\\nvalues will be printed when printing an estimator. For example,\\nprint(SVC()) while True will only print ‘SVC()’, but would print\\n‘SVC(C=1.0, cache_size=200, …)’ with all the non-changed parameters\\nwhen False. If None, the existing value won’t change.\\nThe default value is True.\\n\\nChanged in version 0.23: Default changed from False to True.\\n\\n'},\n",
       "      'display': {'type': 'string',\n",
       "       'enum': ['text', 'diagram'],\n",
       "       'description': '{‘text’, ‘diagram’}, default=None. If ‘diagram’, estimators will be displayed as a diagram in a Jupyter\\nlab or notebook context. If ‘text’, estimators will be displayed as\\ntext. If None, the existing value won’t change.\\nThe default value is ‘diagram’.\\n\\nAdded in version 0.23.\\n\\n'},\n",
       "      'pairwise_dist_chunk_size': {'type': 'integer',\n",
       "       'description': 'int, default=None. The number of row vectors per chunk for the accelerated pairwise-\\ndistances reduction backend. Default is 256 (suitable for most of\\nmodern laptops’ caches and architectures).\\nIntended for easier benchmarking and testing of scikit-learn internals.\\nEnd users are not expected to benefit from customizing this configuration\\nsetting.\\n\\nAdded in version 1.1.\\n\\n'},\n",
       "      'enable_cython_pairwise_dist': {'type': 'boolean',\n",
       "       'description': 'bool, default=None. Use the accelerated pairwise-distances reduction backend when\\npossible. Global default: True.\\nIntended for easier benchmarking and testing of scikit-learn internals.\\nEnd users are not expected to benefit from customizing this configuration\\nsetting.\\n\\nAdded in version 1.1.\\n\\n'},\n",
       "      'array_api_dispatch': {'type': 'boolean',\n",
       "       'description': 'bool, default=None. Use Array API dispatching when inputs follow the Array API standard.\\nDefault is False.\\nSee the User Guide for more details.\\n\\nAdded in version 1.2.\\n\\n'},\n",
       "      'transform_output': {'type': 'string',\n",
       "       'description': 'str, default=None. Configure output of transform and fit_transform.\\nSee Introducing the set_output API\\nfor an example on how to use the API.\\n\\n\"default\": Default output format of a transformer\\n\"pandas\": DataFrame output\\n\"polars\": Polars output\\nNone: Transform configuration is unchanged\\n\\n\\nAdded in version 1.2.\\n\\n\\nAdded in version 1.4: \"polars\" option was added.\\n\\n'},\n",
       "      'enable_metadata_routing': {'type': 'boolean',\n",
       "       'description': 'bool, default=None. Enable metadata routing. By default this feature is disabled.\\nRefer to metadata routing user guide for more\\ndetails.\\n\\nTrue: Metadata routing is enabled\\nFalse: Metadata routing is disabled, use the old syntax.\\nNone: Configuration is unchanged\\n\\n\\nAdded in version 1.3.\\n\\n'},\n",
       "      'skip_parameter_validation': {'type': 'boolean',\n",
       "       'description': 'bool, default=None. If True, disable the validation of the hyper-parameters’ types and values in\\nthe fit method of estimators and for arguments passed to public helper\\nfunctions. It can save time in some situations but can lead to low level\\ncrashes and exceptions with confusing error messages.\\nNote that for data parameters, such as X and y, only type validation is\\nskipped but validation with check_array will continue to run.\\n\\nAdded in version 1.3.\\n\\n'}},\n",
       "     'required': []}}},\n",
       "  {'func_name': 'set_config',\n",
       "   'func_desc': 'Set global scikit-learn configuration.',\n",
       "   'func_url': 'https://scikit-learn.org/stable/modules/generated/sklearn.set_config.html#sklearn.set_config',\n",
       "   'function_definitions': {'function_name': 'set_config',\n",
       "    'full_function': 'sklearn.set_config(assume_finite=None, working_memory=None, print_changed_only=None, display=None, pairwise_dist_chunk_size=None, enable_cython_pairwise_dist=None, array_api_dispatch=None, transform_output=None, enable_metadata_routing=None, skip_parameter_validation=None)',\n",
       "    'function_text': 'Set global scikit-learn configuration. Added in version 0.19.',\n",
       "    'func_text_user_guide': 'https://scikit-learn.org/stable/modules/array_api.html#array-api',\n",
       "    'parameter_names_desc': [{'param_name': 'assume_finite',\n",
       "      'param_type': 'bool, default=None',\n",
       "      'param_desc': 'If True, validation for finiteness will be skipped,\\nsaving time, but leading to potential crashes. If\\nFalse, validation for finiteness will be performed,\\navoiding error.  Global default: False.\\n\\nAdded in version 0.19.\\n\\n'},\n",
       "     {'param_name': 'working_memory',\n",
       "      'param_type': 'int, default=None',\n",
       "      'param_desc': 'If set, scikit-learn will attempt to limit the size of temporary arrays\\nto this number of MiB (per job when parallelised), often saving both\\ncomputation time and memory on expensive operations that can be\\nperformed in chunks. Global default: 1024.\\n\\nAdded in version 0.20.\\n\\n'},\n",
       "     {'param_name': 'print_changed_only',\n",
       "      'param_type': 'bool, default=None',\n",
       "      'param_desc': 'If True, only the parameters that were set to non-default\\nvalues will be printed when printing an estimator. For example,\\nprint(SVC()) while True will only print ‘SVC()’ while the default\\nbehaviour would be to print ‘SVC(C=1.0, cache_size=200, …)’ with\\nall the non-changed parameters.\\n\\nAdded in version 0.21.\\n\\n'},\n",
       "     {'param_name': 'display',\n",
       "      'param_type': '{‘text’, ‘diagram’}, default=None',\n",
       "      'param_desc': 'If ‘diagram’, estimators will be displayed as a diagram in a Jupyter\\nlab or notebook context. If ‘text’, estimators will be displayed as\\ntext. Default is ‘diagram’.\\n\\nAdded in version 0.23.\\n\\n'},\n",
       "     {'param_name': 'pairwise_dist_chunk_size',\n",
       "      'param_type': 'int, default=None',\n",
       "      'param_desc': 'The number of row vectors per chunk for the accelerated pairwise-\\ndistances reduction backend. Default is 256 (suitable for most of\\nmodern laptops’ caches and architectures).\\nIntended for easier benchmarking and testing of scikit-learn internals.\\nEnd users are not expected to benefit from customizing this configuration\\nsetting.\\n\\nAdded in version 1.1.\\n\\n'},\n",
       "     {'param_name': 'enable_cython_pairwise_dist',\n",
       "      'param_type': 'bool, default=None',\n",
       "      'param_desc': 'Use the accelerated pairwise-distances reduction backend when\\npossible. Global default: True.\\nIntended for easier benchmarking and testing of scikit-learn internals.\\nEnd users are not expected to benefit from customizing this configuration\\nsetting.\\n\\nAdded in version 1.1.\\n\\n'},\n",
       "     {'param_name': 'array_api_dispatch',\n",
       "      'param_type': 'bool, default=None',\n",
       "      'param_desc': 'Use Array API dispatching when inputs follow the Array API standard.\\nDefault is False.\\nSee the User Guide for more details.\\n\\nAdded in version 1.2.\\n\\n'},\n",
       "     {'param_name': 'transform_output',\n",
       "      'param_type': 'str, default=None',\n",
       "      'param_desc': 'Configure output of transform and fit_transform.\\nSee Introducing the set_output API\\nfor an example on how to use the API.\\n\\n\"default\": Default output format of a transformer\\n\"pandas\": DataFrame output\\n\"polars\": Polars output\\nNone: Transform configuration is unchanged\\n\\n\\nAdded in version 1.2.\\n\\n\\nAdded in version 1.4: \"polars\" option was added.\\n\\n'},\n",
       "     {'param_name': 'enable_metadata_routing',\n",
       "      'param_type': 'bool, default=None',\n",
       "      'param_desc': 'Enable metadata routing. By default this feature is disabled.\\nRefer to metadata routing user guide for more\\ndetails.\\n\\nTrue: Metadata routing is enabled\\nFalse: Metadata routing is disabled, use the old syntax.\\nNone: Configuration is unchanged\\n\\n\\nAdded in version 1.3.\\n\\n'},\n",
       "     {'param_name': 'skip_parameter_validation',\n",
       "      'param_type': 'bool, default=None',\n",
       "      'param_desc': 'If True, disable the validation of the hyper-parameters’ types and values in\\nthe fit method of estimators and for arguments passed to public helper\\nfunctions. It can save time in some situations but can lead to low level\\ncrashes and exceptions with confusing error messages.\\nNote that for data parameters, such as X and y, only type validation is\\nskipped but validation with check_array will continue to run.\\n\\nAdded in version 1.3.\\n\\n'}]},\n",
       "   'function_calling': {'name': 'set_config',\n",
       "    'descriptions': 'Set global scikit-learn configuration. Added in version 0.19.',\n",
       "    'parameters': {'type': 'object',\n",
       "     'properties': {'assume_finite': {'type': 'boolean',\n",
       "       'description': 'bool, default=None. If True, validation for finiteness will be skipped,\\nsaving time, but leading to potential crashes. If\\nFalse, validation for finiteness will be performed,\\navoiding error.  Global default: False.\\n\\nAdded in version 0.19.\\n\\n'},\n",
       "      'working_memory': {'type': 'integer',\n",
       "       'description': 'int, default=None. If set, scikit-learn will attempt to limit the size of temporary arrays\\nto this number of MiB (per job when parallelised), often saving both\\ncomputation time and memory on expensive operations that can be\\nperformed in chunks. Global default: 1024.\\n\\nAdded in version 0.20.\\n\\n'},\n",
       "      'print_changed_only': {'type': 'boolean',\n",
       "       'description': 'bool, default=None. If True, only the parameters that were set to non-default\\nvalues will be printed when printing an estimator. For example,\\nprint(SVC()) while True will only print ‘SVC()’ while the default\\nbehaviour would be to print ‘SVC(C=1.0, cache_size=200, …)’ with\\nall the non-changed parameters.\\n\\nAdded in version 0.21.\\n\\n'},\n",
       "      'display': {'type': 'string',\n",
       "       'enum': ['text', 'diagram'],\n",
       "       'description': '{‘text’, ‘diagram’}, default=None. If ‘diagram’, estimators will be displayed as a diagram in a Jupyter\\nlab or notebook context. If ‘text’, estimators will be displayed as\\ntext. Default is ‘diagram’.\\n\\nAdded in version 0.23.\\n\\n'},\n",
       "      'pairwise_dist_chunk_size': {'type': 'integer',\n",
       "       'description': 'int, default=None. The number of row vectors per chunk for the accelerated pairwise-\\ndistances reduction backend. Default is 256 (suitable for most of\\nmodern laptops’ caches and architectures).\\nIntended for easier benchmarking and testing of scikit-learn internals.\\nEnd users are not expected to benefit from customizing this configuration\\nsetting.\\n\\nAdded in version 1.1.\\n\\n'},\n",
       "      'enable_cython_pairwise_dist': {'type': 'boolean',\n",
       "       'description': 'bool, default=None. Use the accelerated pairwise-distances reduction backend when\\npossible. Global default: True.\\nIntended for easier benchmarking and testing of scikit-learn internals.\\nEnd users are not expected to benefit from customizing this configuration\\nsetting.\\n\\nAdded in version 1.1.\\n\\n'},\n",
       "      'array_api_dispatch': {'type': 'boolean',\n",
       "       'description': 'bool, default=None. Use Array API dispatching when inputs follow the Array API standard.\\nDefault is False.\\nSee the User Guide for more details.\\n\\nAdded in version 1.2.\\n\\n'},\n",
       "      'transform_output': {'type': 'string',\n",
       "       'description': 'str, default=None. Configure output of transform and fit_transform.\\nSee Introducing the set_output API\\nfor an example on how to use the API.\\n\\n\"default\": Default output format of a transformer\\n\"pandas\": DataFrame output\\n\"polars\": Polars output\\nNone: Transform configuration is unchanged\\n\\n\\nAdded in version 1.2.\\n\\n\\nAdded in version 1.4: \"polars\" option was added.\\n\\n'},\n",
       "      'enable_metadata_routing': {'type': 'boolean',\n",
       "       'description': 'bool, default=None. Enable metadata routing. By default this feature is disabled.\\nRefer to metadata routing user guide for more\\ndetails.\\n\\nTrue: Metadata routing is enabled\\nFalse: Metadata routing is disabled, use the old syntax.\\nNone: Configuration is unchanged\\n\\n\\nAdded in version 1.3.\\n\\n'},\n",
       "      'skip_parameter_validation': {'type': 'boolean',\n",
       "       'description': 'bool, default=None. If True, disable the validation of the hyper-parameters’ types and values in\\nthe fit method of estimators and for arguments passed to public helper\\nfunctions. It can save time in some situations but can lead to low level\\ncrashes and exceptions with confusing error messages.\\nNote that for data parameters, such as X and y, only type validation is\\nskipped but validation with check_array will continue to run.\\n\\nAdded in version 1.3.\\n\\n'}},\n",
       "     'required': []}}},\n",
       "  {'func_name': 'get_config',\n",
       "   'func_desc': 'Retrieve current values for configuration set by set_config.',\n",
       "   'func_url': 'https://scikit-learn.org/stable/modules/generated/sklearn.get_config.html#sklearn.get_config',\n",
       "   'function_definitions': {'function_name': 'get_config',\n",
       "    'full_function': 'sklearn.get_config()',\n",
       "    'function_text': 'Retrieve current values for configuration set by set_config.',\n",
       "    'func_text_user_guide': 'sklearn.set_config.html#sklearn.set_config',\n",
       "    'parameter_names_desc': []},\n",
       "   'function_calling': {}},\n",
       "  {'func_name': 'show_versions',\n",
       "   'func_desc': 'Print useful debugging information\"',\n",
       "   'func_url': 'https://scikit-learn.org/stable/modules/generated/sklearn.show_versions.html#sklearn.show_versions',\n",
       "   'function_definitions': {'function_name': 'show_versions',\n",
       "    'full_function': 'sklearn.show_versions()',\n",
       "    'function_text': 'Print useful debugging information” Added in version 0.20. Examples',\n",
       "    'func_text_user_guide': '',\n",
       "    'parameter_names_desc': []},\n",
       "   'function_calling': {}}]}"
      ]
     },
     "execution_count": 2,
     "metadata": {},
     "output_type": "execute_result"
    }
   ],
   "source": [
    "data['sklearn.html']['functions'][0]"
   ]
  },
  {
   "cell_type": "code",
   "execution_count": 3,
   "metadata": {},
   "outputs": [],
   "source": [
    "from sklearn_agent.agent.database import  build_docs_metadata\n",
    "\n",
    "docs,metadata = build_docs_metadata()"
   ]
  },
  {
   "cell_type": "code",
   "execution_count": 5,
   "metadata": {},
   "outputs": [
    {
     "data": {
      "text/plain": [
       "('Set global scikit-learn configuration. Added in version 0.19.',\n",
       " {'function_name': 'set_config',\n",
       "  'function_url': 'https://scikit-learn.org/stable/modules/generated/sklearn.set_config.html#sklearn.set_config',\n",
       "  'full_function': 'sklearn.set_config(assume_finite=None, working_memory=None, print_changed_only=None, display=None, pairwise_dist_chunk_size=None, enable_cython_pairwise_dist=None, array_api_dispatch=None, transform_output=None, enable_metadata_routing=None, skip_parameter_validation=None)',\n",
       "  'function_calling': '{\\'name\\': \\'set_config\\', \\'descriptions\\': \\'Set global scikit-learn configuration. Added in version 0.19.\\', \\'parameters\\': {\\'type\\': \\'object\\', \\'properties\\': {\\'assume_finite\\': {\\'type\\': \\'boolean\\', \\'description\\': \\'bool, default=None. If True, validation for finiteness will be skipped,\\\\nsaving time, but leading to potential crashes. If\\\\nFalse, validation for finiteness will be performed,\\\\navoiding error.  Global default: False.\\\\n\\\\nAdded in version 0.19.\\\\n\\\\n\\'}, \\'working_memory\\': {\\'type\\': \\'integer\\', \\'description\\': \\'int, default=None. If set, scikit-learn will attempt to limit the size of temporary arrays\\\\nto this number of MiB (per job when parallelised), often saving both\\\\ncomputation time and memory on expensive operations that can be\\\\nperformed in chunks. Global default: 1024.\\\\n\\\\nAdded in version 0.20.\\\\n\\\\n\\'}, \\'print_changed_only\\': {\\'type\\': \\'boolean\\', \\'description\\': \\'bool, default=None. If True, only the parameters that were set to non-default\\\\nvalues will be printed when printing an estimator. For example,\\\\nprint(SVC()) while True will only print ‘SVC()’ while the default\\\\nbehaviour would be to print ‘SVC(C=1.0, cache_size=200, …)’ with\\\\nall the non-changed parameters.\\\\n\\\\nAdded in version 0.21.\\\\n\\\\n\\'}, \\'display\\': {\\'type\\': \\'string\\', \\'enum\\': [\\'text\\', \\'diagram\\'], \\'description\\': \\'{‘text’, ‘diagram’}, default=None. If ‘diagram’, estimators will be displayed as a diagram in a Jupyter\\\\nlab or notebook context. If ‘text’, estimators will be displayed as\\\\ntext. Default is ‘diagram’.\\\\n\\\\nAdded in version 0.23.\\\\n\\\\n\\'}, \\'pairwise_dist_chunk_size\\': {\\'type\\': \\'integer\\', \\'description\\': \\'int, default=None. The number of row vectors per chunk for the accelerated pairwise-\\\\ndistances reduction backend. Default is 256 (suitable for most of\\\\nmodern laptops’ caches and architectures).\\\\nIntended for easier benchmarking and testing of scikit-learn internals.\\\\nEnd users are not expected to benefit from customizing this configuration\\\\nsetting.\\\\n\\\\nAdded in version 1.1.\\\\n\\\\n\\'}, \\'enable_cython_pairwise_dist\\': {\\'type\\': \\'boolean\\', \\'description\\': \\'bool, default=None. Use the accelerated pairwise-distances reduction backend when\\\\npossible. Global default: True.\\\\nIntended for easier benchmarking and testing of scikit-learn internals.\\\\nEnd users are not expected to benefit from customizing this configuration\\\\nsetting.\\\\n\\\\nAdded in version 1.1.\\\\n\\\\n\\'}, \\'array_api_dispatch\\': {\\'type\\': \\'boolean\\', \\'description\\': \\'bool, default=None. Use Array API dispatching when inputs follow the Array API standard.\\\\nDefault is False.\\\\nSee the User Guide for more details.\\\\n\\\\nAdded in version 1.2.\\\\n\\\\n\\'}, \\'transform_output\\': {\\'type\\': \\'string\\', \\'description\\': \\'str, default=None. Configure output of transform and fit_transform.\\\\nSee Introducing the set_output API\\\\nfor an example on how to use the API.\\\\n\\\\n\"default\": Default output format of a transformer\\\\n\"pandas\": DataFrame output\\\\n\"polars\": Polars output\\\\nNone: Transform configuration is unchanged\\\\n\\\\n\\\\nAdded in version 1.2.\\\\n\\\\n\\\\nAdded in version 1.4: \"polars\" option was added.\\\\n\\\\n\\'}, \\'enable_metadata_routing\\': {\\'type\\': \\'boolean\\', \\'description\\': \\'bool, default=None. Enable metadata routing. By default this feature is disabled.\\\\nRefer to metadata routing user guide for more\\\\ndetails.\\\\n\\\\nTrue: Metadata routing is enabled\\\\nFalse: Metadata routing is disabled, use the old syntax.\\\\nNone: Configuration is unchanged\\\\n\\\\n\\\\nAdded in version 1.3.\\\\n\\\\n\\'}, \\'skip_parameter_validation\\': {\\'type\\': \\'boolean\\', \\'description\\': \\'bool, default=None. If True, disable the validation of the hyper-parameters’ types and values in\\\\nthe fit method of estimators and for arguments passed to public helper\\\\nfunctions. It can save time in some situations but can lead to low level\\\\ncrashes and exceptions with confusing error messages.\\\\nNote that for data parameters, such as X and y, only type validation is\\\\nskipped but validation with check_array will continue to run.\\\\n\\\\nAdded in version 1.3.\\\\n\\\\n\\'}}, \\'required\\': []}}',\n",
       "  'parent': 'sklearn',\n",
       "  'sub_level_name': 'defaults',\n",
       "  'sub_level_trail': 'sklearn',\n",
       "  'function_trail': 'sklearn-->defaults'})"
      ]
     },
     "execution_count": 5,
     "metadata": {},
     "output_type": "execute_result"
    }
   ],
   "source": [
    "docs[1], metadata[1]"
   ]
  },
  {
   "cell_type": "code",
   "execution_count": 6,
   "metadata": {},
   "outputs": [
    {
     "data": {
      "text/plain": [
       "Collection(name=sklearn_docs2)"
      ]
     },
     "execution_count": 6,
     "metadata": {},
     "output_type": "execute_result"
    }
   ],
   "source": [
    "from sklearn_agent import build_database\n",
    "from dotenv import load_dotenv,find_dotenv\n",
    "import os\n",
    "load_dotenv(find_dotenv(),override=True)\n",
    "build_database(docs,metadata,os.environ['OPENAI_API_KEY'])"
   ]
  },
  {
   "cell_type": "code",
   "execution_count": 7,
   "metadata": {},
   "outputs": [],
   "source": [
    "from sklearn_agent import load_database\n",
    "\n",
    "sklearn_collection = load_database(os.environ['OPENAI_API_KEY'])"
   ]
  },
  {
   "cell_type": "code",
   "execution_count": 19,
   "metadata": {},
   "outputs": [],
   "source": [
    "import dspy\n",
    "import dspy\n",
    "from dotenv import load_dotenv, find_dotenv\n",
    "import yaml\n",
    "import chromadb.utils.embedding_functions as embedding_functions\n",
    "import os\n",
    "from sklearn_agent.agent.utils import *\n",
    "with open(\"sklearn_agent/config.yaml\") as stream:\n",
    "    try:\n",
    "        config_params = yaml.safe_load(stream)\n",
    "    except yaml.YAMLError as exc:\n",
    "        print(exc)\n",
    "class FirstSecondLevel(dspy.Signature):\n",
    "    \"\"\"You are given a list of keys and their corresponding description separated by semicolon in the format keys: description.\n",
    "    Based on the query, you have to classify the question to one of the key or keys that is relevant to the question.\n",
    "    Be precise and output only the relevant key or keys and don't output their descriptions.\n",
    "    Don't include any other information and DON'T answer None or N/A\"\"\"\n",
    "\n",
    "    query = dspy.InputField(prefix=\"Query which you need to classify: \", format=str)\n",
    "    keys_values = dspy.InputField(prefix=\"Keys and Values: \", format=str)\n",
    "    output = dspy.OutputField(\n",
    "        prefix=\"Relevant Key(s): \",\n",
    "        format=str,\n",
    "        desc=\"relevant keys separated by semicolon\",\n",
    "    )\n",
    "\n",
    "\n",
    "emb_fn = embedding_functions.OpenAIEmbeddingFunction(\n",
    "    api_key=os.environ[\"OPENAI_API_KEY\"],\n",
    "    model_name=config_params[\"VECTORDB\"][\"EMBEDDING_MODEL_NAME\"],\n",
    ")\n",
    "\n",
    "llm = dspy.OpenAI(\n",
    "    model=config_params[\"LEVEL_NODE_LLM\"][\"OPENAI_LLM_MODEL\"], max_tokens=512\n",
    ")\n",
    "dspy.settings.configure(lm=llm)\n",
    "\n",
    "class SklearnAgentChroma(dspy.Module):\n",
    "    def __init__(self, collection):\n",
    "        super().__init__()\n",
    "        self.collection = collection\n",
    "        self.firstSecondLevel = dspy.Predict(FirstSecondLevel)\n",
    "\n",
    "    def __call__(self, *args, **kwargs):\n",
    "        return super().__call__(*args, **kwargs)\n",
    "\n",
    "    def forward(self, query: str):\n",
    "        query_emb = emb_fn([query])[0]\n",
    "\n",
    "        # Parent level querying\n",
    "        parent_level = self.collection.query(\n",
    "            query_embeddings=query_emb,\n",
    "            n_results=3,\n",
    "        )\n",
    "        parent_level_str = \"\"\n",
    "        for parent_level_docs, parent_level_metadata in zip(\n",
    "            parent_level[\"documents\"][0], parent_level[\"metadatas\"][0]\n",
    "        ):\n",
    "            if parent_level_docs in parent_level_str:\n",
    "                continue\n",
    "            parent_level_str += (\n",
    "                f\"{parent_level_metadata['parent']}: {parent_level_docs}\\n\\n\"\n",
    "            )\n",
    "\n",
    "        parent_level_answer = self.firstSecondLevel(\n",
    "            query=query, keys_values=parent_level_str\n",
    "        ).output\n",
    "        print(parent_level_str, parent_level_answer)\n",
    "        trail_list = parent_level_answer.split(\";\")\n",
    "        trail_list = list(set(trail_list))\n",
    "        trail_list_pairs = generate_pairs_recursive([trail_list])\n",
    "\n",
    "        trail_where_clause = get_trail_list_pairs(trail_list_pairs, \"sub_level_trail\")\n",
    "\n",
    "        sub_level = self.collection.query(\n",
    "            query_embeddings=query_emb,\n",
    "            where=trail_where_clause,\n",
    "            n_results=3,\n",
    "        )\n",
    "\n",
    "        sub_level_str = \"\"\n",
    "        for sub_level_docs, function_level_metadata in zip(\n",
    "            sub_level[\"documents\"][0], sub_level[\"metadatas\"][0]\n",
    "        ):\n",
    "            if sub_level_docs in sub_level_str:\n",
    "                continue\n",
    "            sub_level_str += f\"{function_level_metadata['parent']}#{function_level_metadata['sub_level_name']}: {sub_level_docs}\\n\\n\"\n",
    "        print(sub_level_str)\n",
    "        sub_level_answer = self.firstSecondLevel(\n",
    "            query=query, keys_values=sub_level_str\n",
    "        ).output\n",
    "        print(sub_level_answer)\n",
    "        sub_level_list = sub_level_answer.split(\";\")\n",
    "        sub_level_list = [sbl.split(\"#\")[-1] for sbl in sub_level_list]\n",
    "        sub_level_list = list(set(sub_level_list))\n",
    "        function_list = generate_pairs_recursive([trail_list_pairs, sub_level_list])\n",
    "        function_where_clause = get_trail_list_pairs(function_list, \"function_trail\")\n",
    "        print(function_where_clause)\n",
    "        functions = self.collection.query(\n",
    "            query_embeddings=query_emb, where=function_where_clause, n_results=1\n",
    "        )\n",
    "        return functions[\"metadatas\"][0]\n"
   ]
  },
  {
   "cell_type": "code",
   "execution_count": 20,
   "metadata": {},
   "outputs": [],
   "source": [
    "sklearn_chroma_agent = SklearnAgentChroma(sklearn_collection)"
   ]
  },
  {
   "cell_type": "code",
   "execution_count": 21,
   "metadata": {},
   "outputs": [
    {
     "name": "stdout",
     "output_type": "stream",
     "text": [
      "sklearn.discriminant_analysis: Quadratic Discriminant Analysis. A classifier with a quadratic decision boundary, generated by fitting class conditional densities to the data and using Bayes’ rule. The model fits a Gaussian density to each class. Added in version 0.17. For a comparison between QuadraticDiscriminantAnalysis and LinearDiscriminantAnalysis, see Linear and Quadratic Discriminant Analysis with covariance ellipsoid. Read more in the User Guide.\n",
      "\n",
      "sklearn.discriminant_analysis: Linear Discriminant Analysis. A classifier with a linear decision boundary, generated by fitting class conditional densities to the data and using Bayes’ rule. The model fits a Gaussian density to each class, assuming that all classes share the same covariance matrix. The fitted model can also be used to reduce the dimensionality of the input by projecting it to the most discriminative directions, using the transform method. Added in version 0.17. For a comparison between LinearDiscriminantAnalysis and QuadraticDiscriminantAnalysis, see Linear and Quadratic Discriminant Analysis with covariance ellipsoid. Read more in the User Guide.\n",
      "\n",
      "sklearn.gaussian_process: Rational Quadratic kernel. The RationalQuadratic kernel can be seen as a scale mixture (an infinite sum) of RBF kernels with different characteristic length scales. It is parameterized by a length scale parameter \\(l>0\\) and a scale mixture parameter \\(\\alpha>0\\). Only the isotropic variant where length_scale \\(l\\) is a scalar is supported at the moment. The kernel is given by: where \\(\\alpha\\) is the scale mixture parameter, \\(l\\) is the length scale of the kernel and \\(d(\\cdot,\\cdot)\\) is the Euclidean distance. For advice on how to set the parameters, see e.g. [1]. Read more in the User Guide. Added in version 0.18.\n",
      "\n",
      " sklearn.discriminant_analysis\n",
      "sklearn.discriminant_analysis#defaults: Quadratic Discriminant Analysis. A classifier with a quadratic decision boundary, generated by fitting class conditional densities to the data and using Bayes’ rule. The model fits a Gaussian density to each class. Added in version 0.17. For a comparison between QuadraticDiscriminantAnalysis and LinearDiscriminantAnalysis, see Linear and Quadratic Discriminant Analysis with covariance ellipsoid. Read more in the User Guide.\n",
      "\n",
      "sklearn.discriminant_analysis#defaults: Linear Discriminant Analysis. A classifier with a linear decision boundary, generated by fitting class conditional densities to the data and using Bayes’ rule. The model fits a Gaussian density to each class, assuming that all classes share the same covariance matrix. The fitted model can also be used to reduce the dimensionality of the input by projecting it to the most discriminative directions, using the transform method. Added in version 0.17. For a comparison between LinearDiscriminantAnalysis and QuadraticDiscriminantAnalysis, see Linear and Quadratic Discriminant Analysis with covariance ellipsoid. Read more in the User Guide.\n",
      "\n",
      "\n",
      "sklearn.discriminant_analysis#defaults\n",
      "{'function_trail': {'$eq': 'sklearn.discriminant_analysis-->defaults'}}\n"
     ]
    }
   ],
   "source": [
    "funcs = sklearn_chroma_agent(\"How to do quadratic discriminant analysis?\")"
   ]
  },
  {
   "cell_type": "code",
   "execution_count": 22,
   "metadata": {},
   "outputs": [
    {
     "data": {
      "text/plain": [
       "[{'full_function': 'class sklearn.discriminant_analysis.QuadraticDiscriminantAnalysis(*, priors=None, reg_param=0.0, store_covariance=False, tol=0.0001)',\n",
       "  'function_calling': \"{'name': 'QuadraticDiscriminantAnalysis', 'descriptions': 'Quadratic Discriminant Analysis. A classifier with a quadratic decision boundary, generated\\\\nby fitting class conditional densities to the data\\\\nand using Bayes’ rule. The model fits a Gaussian density to each class. Added in version 0.17. For a comparison between\\\\nQuadraticDiscriminantAnalysis\\\\nand LinearDiscriminantAnalysis, see\\\\nLinear and Quadratic Discriminant Analysis with covariance ellipsoid. Read more in the User Guide.', 'parameters': {'type': 'object', 'properties': {'priors': {'type': 'array', 'description': 'array-like of shape (n_classes,), default=None. Class priors. By default, the class proportions are inferred from the\\\\ntraining data.\\\\n'}, 'reg_param': {'type': 'number', 'description': 'float, default=0.0. Regularizes the per-class covariance estimates by transforming S2 as\\\\nS2 = (1 - reg_param) * S2 + reg_param * np.eye(n_features),\\\\nwhere S2 corresponds to the scaling_ attribute of a given class.\\\\n'}, 'store_covariance': {'type': 'boolean', 'description': 'bool, default=False. If True, the class covariance matrices are explicitly computed and\\\\nstored in the self.covariance_ attribute.\\\\n\\\\nAdded in version 0.17.\\\\n\\\\n'}, 'tol': {'type': 'number', 'description': 'float, default=1.0e-4. Absolute threshold for a singular value to be considered significant,\\\\nused to estimate the rank of Xk where Xk is the centered matrix\\\\nof samples in class k. This parameter does not affect the\\\\npredictions. It only controls a warning that is raised when features\\\\nare considered to be colinear.\\\\n\\\\nAdded in version 0.17.\\\\n\\\\n'}}, 'required': []}}\",\n",
       "  'function_name': 'QuadraticDiscriminantAnalysis',\n",
       "  'function_trail': 'sklearn.discriminant_analysis-->defaults',\n",
       "  'function_url': 'https://scikit-learn.org/stable/modules/generated/sklearn.discriminant_analysis.QuadraticDiscriminantAnalysis.html#sklearn.discriminant_analysis.QuadraticDiscriminantAnalysis',\n",
       "  'parent': 'sklearn.discriminant_analysis',\n",
       "  'sub_level_name': 'defaults',\n",
       "  'sub_level_trail': 'sklearn.discriminant_analysis'}]"
      ]
     },
     "execution_count": 22,
     "metadata": {},
     "output_type": "execute_result"
    }
   ],
   "source": [
    "funcs"
   ]
  },
  {
   "cell_type": "code",
   "execution_count": 23,
   "metadata": {},
   "outputs": [],
   "source": [
    "import ast\n",
    "\n",
    "function_calling_dict = ast.literal_eval(funcs[0]['function_calling'])"
   ]
  },
  {
   "cell_type": "code",
   "execution_count": 24,
   "metadata": {},
   "outputs": [
    {
     "data": {
      "text/plain": [
       "{'type': 'object',\n",
       " 'properties': {'priors': {'type': 'array',\n",
       "   'description': 'array-like of shape (n_classes,), default=None. Class priors. By default, the class proportions are inferred from the\\ntraining data.\\n'},\n",
       "  'reg_param': {'type': 'number',\n",
       "   'description': 'float, default=0.0. Regularizes the per-class covariance estimates by transforming S2 as\\nS2 = (1 - reg_param) * S2 + reg_param * np.eye(n_features),\\nwhere S2 corresponds to the scaling_ attribute of a given class.\\n'},\n",
       "  'store_covariance': {'type': 'boolean',\n",
       "   'description': 'bool, default=False. If True, the class covariance matrices are explicitly computed and\\nstored in the self.covariance_ attribute.\\n\\nAdded in version 0.17.\\n\\n'},\n",
       "  'tol': {'type': 'number',\n",
       "   'description': 'float, default=1.0e-4. Absolute threshold for a singular value to be considered significant,\\nused to estimate the rank of Xk where Xk is the centered matrix\\nof samples in class k. This parameter does not affect the\\npredictions. It only controls a warning that is raised when features\\nare considered to be colinear.\\n\\nAdded in version 0.17.\\n\\n'}},\n",
       " 'required': []}"
      ]
     },
     "execution_count": 24,
     "metadata": {},
     "output_type": "execute_result"
    }
   ],
   "source": [
    "function_calling_dict['parameters']"
   ]
  },
  {
   "cell_type": "code",
   "execution_count": 25,
   "metadata": {},
   "outputs": [
    {
     "data": {
      "text/plain": [
       "[{'full_function': 'class sklearn.discriminant_analysis.QuadraticDiscriminantAnalysis(*, priors=None, reg_param=0.0, store_covariance=False, tol=0.0001)',\n",
       "  'function_calling': \"{'name': 'QuadraticDiscriminantAnalysis', 'descriptions': 'Quadratic Discriminant Analysis. A classifier with a quadratic decision boundary, generated\\\\nby fitting class conditional densities to the data\\\\nand using Bayes’ rule. The model fits a Gaussian density to each class. Added in version 0.17. For a comparison between\\\\nQuadraticDiscriminantAnalysis\\\\nand LinearDiscriminantAnalysis, see\\\\nLinear and Quadratic Discriminant Analysis with covariance ellipsoid. Read more in the User Guide.', 'parameters': {'type': 'object', 'properties': {'priors': {'type': 'array', 'description': 'array-like of shape (n_classes,), default=None. Class priors. By default, the class proportions are inferred from the\\\\ntraining data.\\\\n'}, 'reg_param': {'type': 'number', 'description': 'float, default=0.0. Regularizes the per-class covariance estimates by transforming S2 as\\\\nS2 = (1 - reg_param) * S2 + reg_param * np.eye(n_features),\\\\nwhere S2 corresponds to the scaling_ attribute of a given class.\\\\n'}, 'store_covariance': {'type': 'boolean', 'description': 'bool, default=False. If True, the class covariance matrices are explicitly computed and\\\\nstored in the self.covariance_ attribute.\\\\n\\\\nAdded in version 0.17.\\\\n\\\\n'}, 'tol': {'type': 'number', 'description': 'float, default=1.0e-4. Absolute threshold for a singular value to be considered significant,\\\\nused to estimate the rank of Xk where Xk is the centered matrix\\\\nof samples in class k. This parameter does not affect the\\\\npredictions. It only controls a warning that is raised when features\\\\nare considered to be colinear.\\\\n\\\\nAdded in version 0.17.\\\\n\\\\n'}}, 'required': []}}\",\n",
       "  'function_name': 'QuadraticDiscriminantAnalysis',\n",
       "  'function_trail': 'sklearn.discriminant_analysis-->defaults',\n",
       "  'function_url': 'https://scikit-learn.org/stable/modules/generated/sklearn.discriminant_analysis.QuadraticDiscriminantAnalysis.html#sklearn.discriminant_analysis.QuadraticDiscriminantAnalysis',\n",
       "  'parent': 'sklearn.discriminant_analysis',\n",
       "  'sub_level_name': 'defaults',\n",
       "  'sub_level_trail': 'sklearn.discriminant_analysis'}]"
      ]
     },
     "execution_count": 25,
     "metadata": {},
     "output_type": "execute_result"
    }
   ],
   "source": []
  },
  {
   "cell_type": "code",
   "execution_count": null,
   "metadata": {},
   "outputs": [],
   "source": []
  }
 ],
 "metadata": {
  "kernelspec": {
   "display_name": "openbb-env",
   "language": "python",
   "name": "python3"
  },
  "language_info": {
   "codemirror_mode": {
    "name": "ipython",
    "version": 3
   },
   "file_extension": ".py",
   "mimetype": "text/x-python",
   "name": "python",
   "nbconvert_exporter": "python",
   "pygments_lexer": "ipython3",
   "version": "3.10.12"
  }
 },
 "nbformat": 4,
 "nbformat_minor": 2
}
